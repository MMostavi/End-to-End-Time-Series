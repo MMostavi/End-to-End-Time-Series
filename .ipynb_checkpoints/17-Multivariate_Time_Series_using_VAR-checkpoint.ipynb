{
 "cells": [
  {
   "cell_type": "markdown",
   "metadata": {
    "colab_type": "text",
    "id": "view-in-github"
   },
   "source": [
    "<a href=\"https://colab.research.google.com/github/srivatsan88/End-to-End-Time-Series/blob/master/Multivariate_Time_Series_using_VAR.ipynb\" target=\"_parent\"><img src=\"https://colab.research.google.com/assets/colab-badge.svg\" alt=\"Open In Colab\"/></a>"
   ]
  },
  {
   "cell_type": "code",
   "execution_count": 1,
   "metadata": {
    "colab": {
     "base_uri": "https://localhost:8080/"
    },
    "id": "A8edhGvXoqdT",
    "outputId": "b0262715-4541-4422-a385-0443ee19d8fa"
   },
   "outputs": [],
   "source": [
    "import pandas as pd\n",
    "import matplotlib as mpl\n",
    "import matplotlib.pyplot as plt\n",
    "\n",
    "import numpy as np\n",
    "\n",
    "from statsmodels.tsa.stattools import grangercausalitytests\n",
    "from statsmodels.tsa.stattools import adfuller\n",
    "import statsmodels.api as sm\n",
    "from statsmodels.tsa.api import VAR\n",
    "\n",
    "mpl.rcParams['figure.figsize'] = (10, 8)\n",
    "mpl.rcParams['axes.grid'] = False"
   ]
  },
  {
   "cell_type": "code",
   "execution_count": 2,
   "metadata": {
    "id": "ret6bTxmoxfj"
   },
   "outputs": [],
   "source": [
    "df=pd.read_csv('https://raw.githubusercontent.com/srivatsan88/YouTubeLI/master/dataset/appliance_energy_usage.csv', index_col=0, parse_dates=True)"
   ]
  },
  {
   "cell_type": "code",
   "execution_count": 3,
   "metadata": {
    "colab": {
     "base_uri": "https://localhost:8080/",
     "height": 447
    },
    "id": "NvX3zzjLo8KR",
    "outputId": "a72419d9-0902-484f-f5e3-014627923fe6"
   },
   "outputs": [
    {
     "data": {
      "text/html": [
       "<div>\n",
       "<style scoped>\n",
       "    .dataframe tbody tr th:only-of-type {\n",
       "        vertical-align: middle;\n",
       "    }\n",
       "\n",
       "    .dataframe tbody tr th {\n",
       "        vertical-align: top;\n",
       "    }\n",
       "\n",
       "    .dataframe thead th {\n",
       "        text-align: right;\n",
       "    }\n",
       "</style>\n",
       "<table border=\"1\" class=\"dataframe\">\n",
       "  <thead>\n",
       "    <tr style=\"text-align: right;\">\n",
       "      <th></th>\n",
       "      <th>Appliances</th>\n",
       "      <th>lights</th>\n",
       "      <th>T_out</th>\n",
       "      <th>Press_mm_hg</th>\n",
       "      <th>RH_out</th>\n",
       "      <th>Windspeed</th>\n",
       "      <th>Tdewpoint</th>\n",
       "      <th>Visibility</th>\n",
       "    </tr>\n",
       "    <tr>\n",
       "      <th>date</th>\n",
       "      <th></th>\n",
       "      <th></th>\n",
       "      <th></th>\n",
       "      <th></th>\n",
       "      <th></th>\n",
       "      <th></th>\n",
       "      <th></th>\n",
       "      <th></th>\n",
       "    </tr>\n",
       "  </thead>\n",
       "  <tbody>\n",
       "    <tr>\n",
       "      <th>2016-01-11 17:00:00</th>\n",
       "      <td>60</td>\n",
       "      <td>30</td>\n",
       "      <td>6.600000</td>\n",
       "      <td>733.5</td>\n",
       "      <td>92.000000</td>\n",
       "      <td>7.000000</td>\n",
       "      <td>5.300000</td>\n",
       "      <td>63.000000</td>\n",
       "    </tr>\n",
       "    <tr>\n",
       "      <th>2016-01-11 17:10:00</th>\n",
       "      <td>60</td>\n",
       "      <td>30</td>\n",
       "      <td>6.483333</td>\n",
       "      <td>733.6</td>\n",
       "      <td>92.000000</td>\n",
       "      <td>6.666667</td>\n",
       "      <td>5.200000</td>\n",
       "      <td>59.166667</td>\n",
       "    </tr>\n",
       "    <tr>\n",
       "      <th>2016-01-11 17:20:00</th>\n",
       "      <td>50</td>\n",
       "      <td>30</td>\n",
       "      <td>6.366667</td>\n",
       "      <td>733.7</td>\n",
       "      <td>92.000000</td>\n",
       "      <td>6.333333</td>\n",
       "      <td>5.100000</td>\n",
       "      <td>55.333333</td>\n",
       "    </tr>\n",
       "    <tr>\n",
       "      <th>2016-01-11 17:30:00</th>\n",
       "      <td>50</td>\n",
       "      <td>40</td>\n",
       "      <td>6.250000</td>\n",
       "      <td>733.8</td>\n",
       "      <td>92.000000</td>\n",
       "      <td>6.000000</td>\n",
       "      <td>5.000000</td>\n",
       "      <td>51.500000</td>\n",
       "    </tr>\n",
       "    <tr>\n",
       "      <th>2016-01-11 17:40:00</th>\n",
       "      <td>60</td>\n",
       "      <td>40</td>\n",
       "      <td>6.133333</td>\n",
       "      <td>733.9</td>\n",
       "      <td>92.000000</td>\n",
       "      <td>5.666667</td>\n",
       "      <td>4.900000</td>\n",
       "      <td>47.666667</td>\n",
       "    </tr>\n",
       "    <tr>\n",
       "      <th>...</th>\n",
       "      <td>...</td>\n",
       "      <td>...</td>\n",
       "      <td>...</td>\n",
       "      <td>...</td>\n",
       "      <td>...</td>\n",
       "      <td>...</td>\n",
       "      <td>...</td>\n",
       "      <td>...</td>\n",
       "    </tr>\n",
       "    <tr>\n",
       "      <th>2016-05-27 17:20:00</th>\n",
       "      <td>100</td>\n",
       "      <td>0</td>\n",
       "      <td>22.733333</td>\n",
       "      <td>755.2</td>\n",
       "      <td>55.666667</td>\n",
       "      <td>3.333333</td>\n",
       "      <td>13.333333</td>\n",
       "      <td>23.666667</td>\n",
       "    </tr>\n",
       "    <tr>\n",
       "      <th>2016-05-27 17:30:00</th>\n",
       "      <td>90</td>\n",
       "      <td>0</td>\n",
       "      <td>22.600000</td>\n",
       "      <td>755.2</td>\n",
       "      <td>56.000000</td>\n",
       "      <td>3.500000</td>\n",
       "      <td>13.300000</td>\n",
       "      <td>24.500000</td>\n",
       "    </tr>\n",
       "    <tr>\n",
       "      <th>2016-05-27 17:40:00</th>\n",
       "      <td>270</td>\n",
       "      <td>10</td>\n",
       "      <td>22.466667</td>\n",
       "      <td>755.2</td>\n",
       "      <td>56.333333</td>\n",
       "      <td>3.666667</td>\n",
       "      <td>13.266667</td>\n",
       "      <td>25.333333</td>\n",
       "    </tr>\n",
       "    <tr>\n",
       "      <th>2016-05-27 17:50:00</th>\n",
       "      <td>420</td>\n",
       "      <td>10</td>\n",
       "      <td>22.333333</td>\n",
       "      <td>755.2</td>\n",
       "      <td>56.666667</td>\n",
       "      <td>3.833333</td>\n",
       "      <td>13.233333</td>\n",
       "      <td>26.166667</td>\n",
       "    </tr>\n",
       "    <tr>\n",
       "      <th>2016-05-27 18:00:00</th>\n",
       "      <td>430</td>\n",
       "      <td>10</td>\n",
       "      <td>22.200000</td>\n",
       "      <td>755.2</td>\n",
       "      <td>57.000000</td>\n",
       "      <td>4.000000</td>\n",
       "      <td>13.200000</td>\n",
       "      <td>27.000000</td>\n",
       "    </tr>\n",
       "  </tbody>\n",
       "</table>\n",
       "<p>19735 rows × 8 columns</p>\n",
       "</div>"
      ],
      "text/plain": [
       "                     Appliances  lights      T_out  Press_mm_hg     RH_out  \\\n",
       "date                                                                         \n",
       "2016-01-11 17:00:00          60      30   6.600000        733.5  92.000000   \n",
       "2016-01-11 17:10:00          60      30   6.483333        733.6  92.000000   \n",
       "2016-01-11 17:20:00          50      30   6.366667        733.7  92.000000   \n",
       "2016-01-11 17:30:00          50      40   6.250000        733.8  92.000000   \n",
       "2016-01-11 17:40:00          60      40   6.133333        733.9  92.000000   \n",
       "...                         ...     ...        ...          ...        ...   \n",
       "2016-05-27 17:20:00         100       0  22.733333        755.2  55.666667   \n",
       "2016-05-27 17:30:00          90       0  22.600000        755.2  56.000000   \n",
       "2016-05-27 17:40:00         270      10  22.466667        755.2  56.333333   \n",
       "2016-05-27 17:50:00         420      10  22.333333        755.2  56.666667   \n",
       "2016-05-27 18:00:00         430      10  22.200000        755.2  57.000000   \n",
       "\n",
       "                     Windspeed  Tdewpoint  Visibility  \n",
       "date                                                   \n",
       "2016-01-11 17:00:00   7.000000   5.300000   63.000000  \n",
       "2016-01-11 17:10:00   6.666667   5.200000   59.166667  \n",
       "2016-01-11 17:20:00   6.333333   5.100000   55.333333  \n",
       "2016-01-11 17:30:00   6.000000   5.000000   51.500000  \n",
       "2016-01-11 17:40:00   5.666667   4.900000   47.666667  \n",
       "...                        ...        ...         ...  \n",
       "2016-05-27 17:20:00   3.333333  13.333333   23.666667  \n",
       "2016-05-27 17:30:00   3.500000  13.300000   24.500000  \n",
       "2016-05-27 17:40:00   3.666667  13.266667   25.333333  \n",
       "2016-05-27 17:50:00   3.833333  13.233333   26.166667  \n",
       "2016-05-27 18:00:00   4.000000  13.200000   27.000000  \n",
       "\n",
       "[19735 rows x 8 columns]"
      ]
     },
     "execution_count": 3,
     "metadata": {},
     "output_type": "execute_result"
    }
   ],
   "source": [
    "df"
   ]
  },
  {
   "cell_type": "code",
   "execution_count": 4,
   "metadata": {
    "id": "QtWFWPwbJuUu"
   },
   "outputs": [],
   "source": [
    "df=df.resample('1H').mean()"
   ]
  },
  {
   "cell_type": "code",
   "execution_count": 5,
   "metadata": {
    "colab": {
     "base_uri": "https://localhost:8080/",
     "height": 447
    },
    "id": "p6sD5QhdNmmU",
    "outputId": "50580870-c390-4979-d4f8-aba05513c5ff"
   },
   "outputs": [
    {
     "data": {
      "text/html": [
       "<div>\n",
       "<style scoped>\n",
       "    .dataframe tbody tr th:only-of-type {\n",
       "        vertical-align: middle;\n",
       "    }\n",
       "\n",
       "    .dataframe tbody tr th {\n",
       "        vertical-align: top;\n",
       "    }\n",
       "\n",
       "    .dataframe thead th {\n",
       "        text-align: right;\n",
       "    }\n",
       "</style>\n",
       "<table border=\"1\" class=\"dataframe\">\n",
       "  <thead>\n",
       "    <tr style=\"text-align: right;\">\n",
       "      <th></th>\n",
       "      <th>Appliances</th>\n",
       "      <th>lights</th>\n",
       "      <th>T_out</th>\n",
       "      <th>Press_mm_hg</th>\n",
       "      <th>RH_out</th>\n",
       "      <th>Windspeed</th>\n",
       "      <th>Tdewpoint</th>\n",
       "      <th>Visibility</th>\n",
       "    </tr>\n",
       "    <tr>\n",
       "      <th>date</th>\n",
       "      <th></th>\n",
       "      <th></th>\n",
       "      <th></th>\n",
       "      <th></th>\n",
       "      <th></th>\n",
       "      <th></th>\n",
       "      <th></th>\n",
       "      <th></th>\n",
       "    </tr>\n",
       "  </thead>\n",
       "  <tbody>\n",
       "    <tr>\n",
       "      <th>2016-01-11 17:00:00</th>\n",
       "      <td>55.000000</td>\n",
       "      <td>35.000000</td>\n",
       "      <td>6.308333</td>\n",
       "      <td>733.750000</td>\n",
       "      <td>92.000000</td>\n",
       "      <td>6.166667</td>\n",
       "      <td>5.050000</td>\n",
       "      <td>53.416667</td>\n",
       "    </tr>\n",
       "    <tr>\n",
       "      <th>2016-01-11 18:00:00</th>\n",
       "      <td>176.666667</td>\n",
       "      <td>51.666667</td>\n",
       "      <td>5.941667</td>\n",
       "      <td>734.266667</td>\n",
       "      <td>91.583333</td>\n",
       "      <td>5.416667</td>\n",
       "      <td>4.658333</td>\n",
       "      <td>40.000000</td>\n",
       "    </tr>\n",
       "    <tr>\n",
       "      <th>2016-01-11 19:00:00</th>\n",
       "      <td>173.333333</td>\n",
       "      <td>25.000000</td>\n",
       "      <td>6.000000</td>\n",
       "      <td>734.791667</td>\n",
       "      <td>89.750000</td>\n",
       "      <td>6.000000</td>\n",
       "      <td>4.391667</td>\n",
       "      <td>40.000000</td>\n",
       "    </tr>\n",
       "    <tr>\n",
       "      <th>2016-01-11 20:00:00</th>\n",
       "      <td>125.000000</td>\n",
       "      <td>35.000000</td>\n",
       "      <td>6.000000</td>\n",
       "      <td>735.283333</td>\n",
       "      <td>87.583333</td>\n",
       "      <td>6.000000</td>\n",
       "      <td>4.016667</td>\n",
       "      <td>40.000000</td>\n",
       "    </tr>\n",
       "    <tr>\n",
       "      <th>2016-01-11 21:00:00</th>\n",
       "      <td>103.333333</td>\n",
       "      <td>23.333333</td>\n",
       "      <td>5.833333</td>\n",
       "      <td>735.566667</td>\n",
       "      <td>87.416667</td>\n",
       "      <td>6.000000</td>\n",
       "      <td>3.816667</td>\n",
       "      <td>40.000000</td>\n",
       "    </tr>\n",
       "    <tr>\n",
       "      <th>...</th>\n",
       "      <td>...</td>\n",
       "      <td>...</td>\n",
       "      <td>...</td>\n",
       "      <td>...</td>\n",
       "      <td>...</td>\n",
       "      <td>...</td>\n",
       "      <td>...</td>\n",
       "      <td>...</td>\n",
       "    </tr>\n",
       "    <tr>\n",
       "      <th>2016-05-27 14:00:00</th>\n",
       "      <td>101.666667</td>\n",
       "      <td>1.666667</td>\n",
       "      <td>21.916667</td>\n",
       "      <td>755.800000</td>\n",
       "      <td>59.000000</td>\n",
       "      <td>2.000000</td>\n",
       "      <td>13.475000</td>\n",
       "      <td>21.583333</td>\n",
       "    </tr>\n",
       "    <tr>\n",
       "      <th>2016-05-27 15:00:00</th>\n",
       "      <td>76.666667</td>\n",
       "      <td>0.000000</td>\n",
       "      <td>22.216667</td>\n",
       "      <td>755.675000</td>\n",
       "      <td>57.333333</td>\n",
       "      <td>2.000000</td>\n",
       "      <td>13.258333</td>\n",
       "      <td>21.833333</td>\n",
       "    </tr>\n",
       "    <tr>\n",
       "      <th>2016-05-27 16:00:00</th>\n",
       "      <td>135.000000</td>\n",
       "      <td>0.000000</td>\n",
       "      <td>22.883333</td>\n",
       "      <td>755.375000</td>\n",
       "      <td>55.000000</td>\n",
       "      <td>2.416667</td>\n",
       "      <td>13.283333</td>\n",
       "      <td>22.583333</td>\n",
       "    </tr>\n",
       "    <tr>\n",
       "      <th>2016-05-27 17:00:00</th>\n",
       "      <td>180.000000</td>\n",
       "      <td>3.333333</td>\n",
       "      <td>22.666667</td>\n",
       "      <td>755.200000</td>\n",
       "      <td>55.833333</td>\n",
       "      <td>3.416667</td>\n",
       "      <td>13.316667</td>\n",
       "      <td>24.083333</td>\n",
       "    </tr>\n",
       "    <tr>\n",
       "      <th>2016-05-27 18:00:00</th>\n",
       "      <td>430.000000</td>\n",
       "      <td>10.000000</td>\n",
       "      <td>22.200000</td>\n",
       "      <td>755.200000</td>\n",
       "      <td>57.000000</td>\n",
       "      <td>4.000000</td>\n",
       "      <td>13.200000</td>\n",
       "      <td>27.000000</td>\n",
       "    </tr>\n",
       "  </tbody>\n",
       "</table>\n",
       "<p>3290 rows × 8 columns</p>\n",
       "</div>"
      ],
      "text/plain": [
       "                     Appliances     lights      T_out  Press_mm_hg     RH_out  \\\n",
       "date                                                                            \n",
       "2016-01-11 17:00:00   55.000000  35.000000   6.308333   733.750000  92.000000   \n",
       "2016-01-11 18:00:00  176.666667  51.666667   5.941667   734.266667  91.583333   \n",
       "2016-01-11 19:00:00  173.333333  25.000000   6.000000   734.791667  89.750000   \n",
       "2016-01-11 20:00:00  125.000000  35.000000   6.000000   735.283333  87.583333   \n",
       "2016-01-11 21:00:00  103.333333  23.333333   5.833333   735.566667  87.416667   \n",
       "...                         ...        ...        ...          ...        ...   \n",
       "2016-05-27 14:00:00  101.666667   1.666667  21.916667   755.800000  59.000000   \n",
       "2016-05-27 15:00:00   76.666667   0.000000  22.216667   755.675000  57.333333   \n",
       "2016-05-27 16:00:00  135.000000   0.000000  22.883333   755.375000  55.000000   \n",
       "2016-05-27 17:00:00  180.000000   3.333333  22.666667   755.200000  55.833333   \n",
       "2016-05-27 18:00:00  430.000000  10.000000  22.200000   755.200000  57.000000   \n",
       "\n",
       "                     Windspeed  Tdewpoint  Visibility  \n",
       "date                                                   \n",
       "2016-01-11 17:00:00   6.166667   5.050000   53.416667  \n",
       "2016-01-11 18:00:00   5.416667   4.658333   40.000000  \n",
       "2016-01-11 19:00:00   6.000000   4.391667   40.000000  \n",
       "2016-01-11 20:00:00   6.000000   4.016667   40.000000  \n",
       "2016-01-11 21:00:00   6.000000   3.816667   40.000000  \n",
       "...                        ...        ...         ...  \n",
       "2016-05-27 14:00:00   2.000000  13.475000   21.583333  \n",
       "2016-05-27 15:00:00   2.000000  13.258333   21.833333  \n",
       "2016-05-27 16:00:00   2.416667  13.283333   22.583333  \n",
       "2016-05-27 17:00:00   3.416667  13.316667   24.083333  \n",
       "2016-05-27 18:00:00   4.000000  13.200000   27.000000  \n",
       "\n",
       "[3290 rows x 8 columns]"
      ]
     },
     "execution_count": 5,
     "metadata": {},
     "output_type": "execute_result"
    }
   ],
   "source": [
    "df"
   ]
  },
  {
   "cell_type": "code",
   "execution_count": 6,
   "metadata": {
    "colab": {
     "base_uri": "https://localhost:8080/",
     "height": 1000
    },
    "id": "c-KGo1_3YsVd",
    "outputId": "c740c93e-4d4b-4d66-ec58-8efa27932aac"
   },
   "outputs": [
    {
     "data": {
      "image/png": "[encoded data removed]",
      "text/plain": [
       "<Figure size 1120x1280 with 8 Axes>"
      ]
     },
     "metadata": {},
     "output_type": "display_data"
    }
   ],
   "source": [
    "color_list = [\n",
    "    \"blue\",\n",
    "    \"orange\",\n",
    "    \"green\",\n",
    "    \"red\",\n",
    "    \"purple\",\n",
    "    \"brown\",\n",
    "    \"pink\",\n",
    "    \"gray\",\n",
    "    \"olive\",\n",
    "    \"cyan\",\n",
    "]\n",
    "\n",
    "\n",
    "def Visualize(data):\n",
    "    features= list(df.select_dtypes(include=[np.number]).columns.values)\n",
    "    feature_size=len(features)\n",
    "    fig, axes = plt.subplots(\n",
    "        nrows=int(np.ceil(feature_size/2)), ncols=2, figsize=(14, feature_size*2), dpi=80, facecolor=\"w\", edgecolor=\"k\"\n",
    "    )\n",
    "    for i in range(feature_size):\n",
    "        key = features[i]\n",
    "        c = color_list[i % (len(color_list))]\n",
    "        t_data = data[key]\n",
    "        t_data.head()\n",
    "        ax = t_data.plot(\n",
    "            ax=axes[i // 2, i % 2],\n",
    "            color=c,\n",
    "            title=\"{}\".format(key),\n",
    "            rot=25,\n",
    "        )\n",
    "        ax.legend([key])\n",
    "    plt.tight_layout()\n",
    "\n",
    "\n",
    "Visualize(df)"
   ]
  },
  {
   "cell_type": "markdown",
   "metadata": {
    "id": "gU3OKJn6SodQ"
   },
   "source": [
    "Null Hypothesis - Series possesses a unit root and hence is not stationary\n",
    "\n",
    "Alternate Hypothesis - Series is stationary"
   ]
  },
  {
   "cell_type": "code",
   "execution_count": 7,
   "metadata": {
    "colab": {
     "base_uri": "https://localhost:8080/"
    },
    "id": "sUsrIiCfOKty",
    "outputId": "c9e09c40-887d-4a32-c9ba-e192d1d06fdd"
   },
   "outputs": [
    {
     "name": "stdout",
     "output_type": "stream",
     "text": [
      "Appliances - Series is Stationary\n",
      "lights - Series is Stationary\n",
      "T_out - Series is Stationary\n",
      "Press_mm_hg - Series is Stationary\n",
      "RH_out - Series is Stationary\n",
      "Windspeed - Series is Stationary\n",
      "Tdewpoint - Series is Stationary\n",
      "Visibility - Series is Stationary\n"
     ]
    }
   ],
   "source": [
    "for i in range(len(df.columns)):\n",
    "  result = adfuller(df[df.columns[i]])\n",
    "\n",
    "  if result[1] > 0.05 :\n",
    "    print('{} - Series is not Stationary'.format(df.columns[i]))\n",
    "  else:\n",
    "    print('{} - Series is Stationary'.format(df.columns[i]))"
   ]
  },
  {
   "cell_type": "markdown",
   "metadata": {
    "id": "UkaMJYpO1TNO"
   },
   "source": [
    " H0: Xt does not granger causes Yt\n",
    " \n",
    " H1: Xt granger causes Yt"
   ]
  },
  {
   "cell_type": "code",
   "execution_count": 8,
   "metadata": {
    "id": "1GC9090oFc-l"
   },
   "outputs": [],
   "source": [
    "max_lags=8\n",
    "y='Appliances'"
   ]
  },
  {
   "cell_type": "code",
   "execution_count": 9,
   "metadata": {
    "colab": {
     "base_uri": "https://localhost:8080/"
    },
    "id": "0v246-Mi67d_",
    "outputId": "988c76d8-da28-4eb4-a921-a12a24314f90"
   },
   "outputs": [
    {
     "name": "stdout",
     "output_type": "stream",
     "text": [
      "Column - lights : P_Values - [0.1451, 0.0005, 0.0001, 0.0002, 0.0001, 0.0001, 0.0006, 0.0012]\n",
      "Column - T_out : P_Values - [0.002, 0.0001, 0.0001, 0.0, 0.0, 0.0, 0.0, 0.0]\n",
      "Column - Press_mm_hg : P_Values - [0.0985, 0.1956, 0.0351, 0.0016, 0.0, 0.0001, 0.0, 0.0]\n",
      "Column - RH_out : P_Values - [0.0, 0.0004, 0.0004, 0.0, 0.0, 0.0, 0.0, 0.0]\n",
      "Column - Windspeed : P_Values - [0.0004, 0.0041, 0.0094, 0.0082, 0.0163, 0.0119, 0.0009, 0.0002]\n",
      "Column - Tdewpoint : P_Values - [0.4348, 0.4494, 0.5005, 0.3887, 0.05, 0.0694, 0.0992, 0.1152]\n",
      "Column - Visibility : P_Values - [0.7071, 0.5372, 0.7338, 0.8265, 0.544, 0.3324, 0.2521, 0.3465]\n"
     ]
    }
   ],
   "source": [
    "for i in range(len(df.columns)-1):\n",
    "  results=grangercausalitytests(df[[y,df.columns[i+1]]], max_lags, verbose=False)\n",
    "  p_values=[round(results[i+1][0]['ssr_ftest'][1],4) for i in range(max_lags)]\n",
    "  print('Column - {} : P_Values - {}'.format(df.columns[i+1],p_values))"
   ]
  },
  {
   "cell_type": "code",
   "execution_count": 10,
   "metadata": {
    "id": "ccsOCsmY_lJh"
   },
   "outputs": [],
   "source": [
    "df_input=df[['Appliances','T_out','Windspeed']]"
   ]
  },
  {
   "cell_type": "code",
   "execution_count": 11,
   "metadata": {
    "colab": {
     "base_uri": "https://localhost:8080/",
     "height": 447
    },
    "id": "mM64CwUk_lCB",
    "outputId": "a6d4c1cb-10f3-45c7-eb7d-bfc47c4e543c"
   },
   "outputs": [
    {
     "data": {
      "text/html": [
       "<div>\n",
       "<style scoped>\n",
       "    .dataframe tbody tr th:only-of-type {\n",
       "        vertical-align: middle;\n",
       "    }\n",
       "\n",
       "    .dataframe tbody tr th {\n",
       "        vertical-align: top;\n",
       "    }\n",
       "\n",
       "    .dataframe thead th {\n",
       "        text-align: right;\n",
       "    }\n",
       "</style>\n",
       "<table border=\"1\" class=\"dataframe\">\n",
       "  <thead>\n",
       "    <tr style=\"text-align: right;\">\n",
       "      <th></th>\n",
       "      <th>Appliances</th>\n",
       "      <th>T_out</th>\n",
       "      <th>Windspeed</th>\n",
       "    </tr>\n",
       "    <tr>\n",
       "      <th>date</th>\n",
       "      <th></th>\n",
       "      <th></th>\n",
       "      <th></th>\n",
       "    </tr>\n",
       "  </thead>\n",
       "  <tbody>\n",
       "    <tr>\n",
       "      <th>2016-01-11 17:00:00</th>\n",
       "      <td>55.000000</td>\n",
       "      <td>6.308333</td>\n",
       "      <td>6.166667</td>\n",
       "    </tr>\n",
       "    <tr>\n",
       "      <th>2016-01-11 18:00:00</th>\n",
       "      <td>176.666667</td>\n",
       "      <td>5.941667</td>\n",
       "      <td>5.416667</td>\n",
       "    </tr>\n",
       "    <tr>\n",
       "      <th>2016-01-11 19:00:00</th>\n",
       "      <td>173.333333</td>\n",
       "      <td>6.000000</td>\n",
       "      <td>6.000000</td>\n",
       "    </tr>\n",
       "    <tr>\n",
       "      <th>2016-01-11 20:00:00</th>\n",
       "      <td>125.000000</td>\n",
       "      <td>6.000000</td>\n",
       "      <td>6.000000</td>\n",
       "    </tr>\n",
       "    <tr>\n",
       "      <th>2016-01-11 21:00:00</th>\n",
       "      <td>103.333333</td>\n",
       "      <td>5.833333</td>\n",
       "      <td>6.000000</td>\n",
       "    </tr>\n",
       "    <tr>\n",
       "      <th>...</th>\n",
       "      <td>...</td>\n",
       "      <td>...</td>\n",
       "      <td>...</td>\n",
       "    </tr>\n",
       "    <tr>\n",
       "      <th>2016-05-27 14:00:00</th>\n",
       "      <td>101.666667</td>\n",
       "      <td>21.916667</td>\n",
       "      <td>2.000000</td>\n",
       "    </tr>\n",
       "    <tr>\n",
       "      <th>2016-05-27 15:00:00</th>\n",
       "      <td>76.666667</td>\n",
       "      <td>22.216667</td>\n",
       "      <td>2.000000</td>\n",
       "    </tr>\n",
       "    <tr>\n",
       "      <th>2016-05-27 16:00:00</th>\n",
       "      <td>135.000000</td>\n",
       "      <td>22.883333</td>\n",
       "      <td>2.416667</td>\n",
       "    </tr>\n",
       "    <tr>\n",
       "      <th>2016-05-27 17:00:00</th>\n",
       "      <td>180.000000</td>\n",
       "      <td>22.666667</td>\n",
       "      <td>3.416667</td>\n",
       "    </tr>\n",
       "    <tr>\n",
       "      <th>2016-05-27 18:00:00</th>\n",
       "      <td>430.000000</td>\n",
       "      <td>22.200000</td>\n",
       "      <td>4.000000</td>\n",
       "    </tr>\n",
       "  </tbody>\n",
       "</table>\n",
       "<p>3290 rows × 3 columns</p>\n",
       "</div>"
      ],
      "text/plain": [
       "                     Appliances      T_out  Windspeed\n",
       "date                                                 \n",
       "2016-01-11 17:00:00   55.000000   6.308333   6.166667\n",
       "2016-01-11 18:00:00  176.666667   5.941667   5.416667\n",
       "2016-01-11 19:00:00  173.333333   6.000000   6.000000\n",
       "2016-01-11 20:00:00  125.000000   6.000000   6.000000\n",
       "2016-01-11 21:00:00  103.333333   5.833333   6.000000\n",
       "...                         ...        ...        ...\n",
       "2016-05-27 14:00:00  101.666667  21.916667   2.000000\n",
       "2016-05-27 15:00:00   76.666667  22.216667   2.000000\n",
       "2016-05-27 16:00:00  135.000000  22.883333   2.416667\n",
       "2016-05-27 17:00:00  180.000000  22.666667   3.416667\n",
       "2016-05-27 18:00:00  430.000000  22.200000   4.000000\n",
       "\n",
       "[3290 rows x 3 columns]"
      ]
     },
     "execution_count": 11,
     "metadata": {},
     "output_type": "execute_result"
    }
   ],
   "source": [
    "df_input"
   ]
  },
  {
   "cell_type": "code",
   "execution_count": 12,
   "metadata": {
    "id": "zflJjxO9_k4H"
   },
   "outputs": [],
   "source": [
    "df_train = df_input[:int(0.9*(len(df_input)))]\n",
    "df_test = df_input[int(0.9*(len(df_input))):]"
   ]
  },
  {
   "cell_type": "code",
   "execution_count": 13,
   "metadata": {
    "colab": {
     "base_uri": "https://localhost:8080/"
    },
    "id": "kObZX1w8AaOb",
    "outputId": "22007c59-82f1-4f60-89eb-32283e849310"
   },
   "outputs": [
    {
     "data": {
      "text/plain": [
       "(2961, 3)"
      ]
     },
     "execution_count": 13,
     "metadata": {},
     "output_type": "execute_result"
    }
   ],
   "source": [
    "df_train.shape"
   ]
  },
  {
   "cell_type": "code",
   "execution_count": 14,
   "metadata": {
    "colab": {
     "base_uri": "https://localhost:8080/"
    },
    "id": "tsno9RVDAUjs",
    "outputId": "75e3f685-8edd-4cbb-ccd1-803f64969fda"
   },
   "outputs": [
    {
     "data": {
      "text/plain": [
       "(329, 3)"
      ]
     },
     "execution_count": 14,
     "metadata": {},
     "output_type": "execute_result"
    }
   ],
   "source": [
    "df_test.shape"
   ]
  },
  {
   "cell_type": "markdown",
   "metadata": {
    "id": "mLmRHWJ4eO7C"
   },
   "source": [
    "![link text](https://wikimedia.org/api/rest_v1/media/math/render/svg/d79bead4e9192d7fe2470a7936e4623e9ff252e1)\n",
    "\n",
    "![link text](https://wikimedia.org/api/rest_v1/media/math/render/svg/d88ac4002c0641b2e93fb6d35f961ea63352b6a9)"
   ]
  },
  {
   "cell_type": "code",
   "execution_count": 15,
   "metadata": {
    "colab": {
     "base_uri": "https://localhost:8080/"
    },
    "id": "ZMKkIsDmBUrx",
    "outputId": "b8176cbb-74b1-4d5a-a1cf-0e5238008fb2"
   },
   "outputs": [
    {
     "name": "stdout",
     "output_type": "stream",
     "text": [
      "Order =  1\n",
      "AIC:  7.126785098024288\n",
      "BIC:  7.151080819162064\n",
      "Order =  2\n",
      "AIC:  6.138769168927821\n",
      "BIC:  6.181298651759995\n",
      "Order =  3\n",
      "AIC:  6.019982255185911\n",
      "BIC:  6.080755770837745\n",
      "Order =  4\n",
      "AIC:  5.960526790759722\n",
      "BIC:  6.03955461973309\n",
      "Order =  5\n",
      "AIC:  5.908069667837071\n",
      "BIC:  6.005362100022209\n",
      "Order =  6\n",
      "AIC:  5.891197292905782\n",
      "BIC:  6.006764627593054\n",
      "Order =  7\n",
      "AIC:  5.85225035501184\n",
      "BIC:  5.986102900903522\n",
      "Order =  8\n",
      "AIC:  5.841915871050664\n",
      "BIC:  5.994063946272741\n",
      "Order =  9\n",
      "AIC:  5.827889041110309\n",
      "BIC:  5.998342973224303\n",
      "Order =  10\n",
      "AIC:  5.825120732509795\n",
      "BIC:  6.013890858524602\n",
      "Order =  11\n",
      "AIC:  5.791083147024334\n",
      "BIC:  5.998179813408081\n",
      "Order =  12\n",
      "AIC:  5.78322849534456\n",
      "BIC:  6.008662058036488\n",
      "Order =  13\n",
      "AIC:  5.764122425516564\n",
      "BIC:  6.00790324993892\n",
      "Order =  14\n",
      "AIC:  5.754516806234102\n",
      "BIC:  6.016655267304059\n",
      "Order =  15\n",
      "AIC:  5.745057263179905\n",
      "BIC:  6.025563745321492\n",
      "Order =  16\n",
      "AIC:  5.734159567395153\n",
      "BIC:  6.033044464551212\n",
      "Order =  17\n",
      "AIC:  5.734437324119505\n",
      "BIC:  6.051711039763665\n",
      "Order =  18\n",
      "AIC:  5.727535892320577\n",
      "BIC:  6.063208839469243\n",
      "Order =  19\n",
      "AIC:  5.718040422951479\n",
      "BIC:  6.072123024175844\n",
      "Order =  20\n",
      "AIC:  5.719535954093964\n",
      "BIC:  6.09203864153204\n",
      "Order =  21\n",
      "AIC:  5.722525512492248\n",
      "BIC:  6.113458727860916\n",
      "Order =  22\n",
      "AIC:  5.719011568286695\n",
      "BIC:  6.128385762893774\n",
      "Order =  23\n",
      "AIC:  5.683257270961978\n",
      "BIC:  6.111082905718311\n",
      "Order =  24\n",
      "AIC:  5.669514653667392\n",
      "BIC:  6.115802199098955\n",
      "Order =  25\n",
      "AIC:  5.655808323518034\n",
      "BIC:  6.120568259778063\n",
      "Order =  26\n",
      "AIC:  5.649392888906143\n",
      "BIC:  6.132635705787282\n",
      "Order =  27\n",
      "AIC:  5.651075212992242\n",
      "BIC:  6.152811409938704\n",
      "Order =  28\n",
      "AIC:  5.65066984090543\n",
      "BIC:  6.170909927025189\n",
      "Order =  29\n",
      "AIC:  5.653956702770681\n",
      "BIC:  6.192711196847668\n",
      "Order =  30\n",
      "AIC:  5.6556689518059935\n",
      "BIC:  6.21294838231233\n",
      "Order =  31\n",
      "AIC:  5.659937876803567\n",
      "BIC:  6.2357527819118035\n",
      "Order =  32\n",
      "AIC:  5.662846403783326\n",
      "BIC:  6.257207331378707\n",
      "Order =  33\n",
      "AIC:  5.667486003112628\n",
      "BIC:  6.280403510805374\n",
      "Order =  34\n",
      "AIC:  5.671153194283653\n",
      "BIC:  6.302637849421266\n",
      "Order =  35\n",
      "AIC:  5.6759528026859885\n",
      "BIC:  6.3260151823655715\n",
      "Order =  36\n",
      "AIC:  5.675885857212917\n",
      "BIC:  6.3445365482935205\n",
      "Order =  37\n",
      "AIC:  5.678621402950433\n",
      "BIC:  6.365871002065415\n",
      "Order =  38\n",
      "AIC:  5.682019346497948\n",
      "BIC:  6.3878784600673555\n",
      "Order =  39\n",
      "AIC:  5.68665911023301\n",
      "BIC:  6.411138354475983\n",
      "Order =  40\n",
      "AIC:  5.690122942935507\n",
      "BIC:  6.433232943882699\n",
      "Order =  41\n",
      "AIC:  5.693432426703917\n",
      "BIC:  6.455183820209939\n",
      "Order =  42\n",
      "AIC:  5.695957820037173\n",
      "BIC:  6.476361251793055\n",
      "Order =  43\n",
      "AIC:  5.700324426427202\n",
      "BIC:  6.499390551972873\n",
      "Order =  44\n",
      "AIC:  5.702238759433133\n",
      "BIC:  6.519978244169924\n",
      "Order =  45\n",
      "AIC:  5.70534531946816\n",
      "BIC:  6.541768838671331\n",
      "Order =  46\n",
      "AIC:  5.707954489202293\n",
      "BIC:  6.563072728033571\n",
      "Order =  47\n",
      "AIC:  5.69976008667805\n",
      "BIC:  6.573583740198192\n",
      "Order =  48\n",
      "AIC:  5.698390341067918\n",
      "BIC:  6.5909301142492955\n"
     ]
    }
   ],
   "source": [
    "model = VAR(df_train, freq=\"1H\")\n",
    "for i in range(48):\n",
    "    results = model.fit(i+1)\n",
    "    print('Order = ', i+1)\n",
    "    print('AIC: ', results.aic)\n",
    "    print('BIC: ', results.bic)"
   ]
  },
  {
   "cell_type": "code",
   "execution_count": 16,
   "metadata": {
    "colab": {
     "base_uri": "https://localhost:8080/",
     "height": 1000
    },
    "id": "M89Cq70uOMGv",
    "outputId": "b992503d-6ab7-48ba-ea6b-1117bb01ebd0"
   },
   "outputs": [
    {
     "data": {
      "text/html": [
       "<table class=\"simpletable\">\n",
       "<caption>VAR Order Selection (* highlights the minimums)</caption>\n",
       "<tr>\n",
       "   <td></td>      <th>AIC</th>         <th>BIC</th>         <th>FPE</th>        <th>HQIC</th>    \n",
       "</tr>\n",
       "<tr>\n",
       "  <th>0</th>  <td>     13.82</td>  <td>     13.83</td>  <td> 1.005e+06</td>  <td>     13.82</td> \n",
       "</tr>\n",
       "<tr>\n",
       "  <th>1</th>  <td>     7.139</td>  <td>     7.163</td>  <td>     1260.</td>  <td>     7.148</td> \n",
       "</tr>\n",
       "<tr>\n",
       "  <th>2</th>  <td>     6.149</td>  <td>     6.192</td>  <td>     468.3</td>  <td>     6.165</td> \n",
       "</tr>\n",
       "<tr>\n",
       "  <th>3</th>  <td>     6.031</td>  <td>     6.093</td>  <td>     416.2</td>  <td>     6.053</td> \n",
       "</tr>\n",
       "<tr>\n",
       "  <th>4</th>  <td>     5.970</td>  <td>     6.050</td>  <td>     391.7</td>  <td>     5.999</td> \n",
       "</tr>\n",
       "<tr>\n",
       "  <th>5</th>  <td>     5.917</td>  <td>     6.015</td>  <td>     371.3</td>  <td>     5.952</td> \n",
       "</tr>\n",
       "<tr>\n",
       "  <th>6</th>  <td>     5.902</td>  <td>     6.019</td>  <td>     365.7</td>  <td>     5.944</td> \n",
       "</tr>\n",
       "<tr>\n",
       "  <th>7</th>  <td>     5.863</td>  <td>     5.999*</td> <td>     351.9</td>  <td>     5.912</td> \n",
       "</tr>\n",
       "<tr>\n",
       "  <th>8</th>  <td>     5.852</td>  <td>     6.006</td>  <td>     348.1</td>  <td>     5.908</td> \n",
       "</tr>\n",
       "<tr>\n",
       "  <th>9</th>  <td>     5.837</td>  <td>     6.010</td>  <td>     342.9</td>  <td>     5.900</td> \n",
       "</tr>\n",
       "<tr>\n",
       "  <th>10</th> <td>     5.835</td>  <td>     6.026</td>  <td>     342.2</td>  <td>     5.904</td> \n",
       "</tr>\n",
       "<tr>\n",
       "  <th>11</th> <td>     5.801</td>  <td>     6.010</td>  <td>     330.5</td>  <td>     5.876</td> \n",
       "</tr>\n",
       "<tr>\n",
       "  <th>12</th> <td>     5.791</td>  <td>     6.019</td>  <td>     327.5</td>  <td>     5.874</td> \n",
       "</tr>\n",
       "<tr>\n",
       "  <th>13</th> <td>     5.772</td>  <td>     6.018</td>  <td>     321.2</td>  <td>     5.861</td> \n",
       "</tr>\n",
       "<tr>\n",
       "  <th>14</th> <td>     5.761</td>  <td>     6.026</td>  <td>     317.8</td>  <td>     5.857</td> \n",
       "</tr>\n",
       "<tr>\n",
       "  <th>15</th> <td>     5.751</td>  <td>     6.034</td>  <td>     314.5</td>  <td>     5.853</td> \n",
       "</tr>\n",
       "<tr>\n",
       "  <th>16</th> <td>     5.739</td>  <td>     6.041</td>  <td>     310.8</td>  <td>     5.848</td> \n",
       "</tr>\n",
       "<tr>\n",
       "  <th>17</th> <td>     5.739</td>  <td>     6.059</td>  <td>     310.6</td>  <td>     5.854</td> \n",
       "</tr>\n",
       "<tr>\n",
       "  <th>18</th> <td>     5.733</td>  <td>     6.072</td>  <td>     309.0</td>  <td>     5.855</td> \n",
       "</tr>\n",
       "<tr>\n",
       "  <th>19</th> <td>     5.724</td>  <td>     6.081</td>  <td>     306.3</td>  <td>     5.853</td> \n",
       "</tr>\n",
       "<tr>\n",
       "  <th>20</th> <td>     5.726</td>  <td>     6.101</td>  <td>     306.7</td>  <td>     5.861</td> \n",
       "</tr>\n",
       "<tr>\n",
       "  <th>21</th> <td>     5.728</td>  <td>     6.122</td>  <td>     307.3</td>  <td>     5.870</td> \n",
       "</tr>\n",
       "<tr>\n",
       "  <th>22</th> <td>     5.724</td>  <td>     6.136</td>  <td>     306.1</td>  <td>     5.872</td> \n",
       "</tr>\n",
       "<tr>\n",
       "  <th>23</th> <td>     5.691</td>  <td>     6.121</td>  <td>     296.1</td>  <td>     5.846</td> \n",
       "</tr>\n",
       "<tr>\n",
       "  <th>24</th> <td>     5.677</td>  <td>     6.126</td>  <td>     292.1</td>  <td>     5.839</td> \n",
       "</tr>\n",
       "<tr>\n",
       "  <th>25</th> <td>     5.666</td>  <td>     6.134</td>  <td>     288.8</td>  <td>     5.834*</td>\n",
       "</tr>\n",
       "<tr>\n",
       "  <th>26</th> <td>     5.660*</td> <td>     6.146</td>  <td>     287.2*</td> <td>     5.835</td> \n",
       "</tr>\n",
       "<tr>\n",
       "  <th>27</th> <td>     5.661</td>  <td>     6.166</td>  <td>     287.6</td>  <td>     5.843</td> \n",
       "</tr>\n",
       "<tr>\n",
       "  <th>28</th> <td>     5.660</td>  <td>     6.183</td>  <td>     287.2</td>  <td>     5.849</td> \n",
       "</tr>\n",
       "<tr>\n",
       "  <th>29</th> <td>     5.663</td>  <td>     6.205</td>  <td>     288.0</td>  <td>     5.858</td> \n",
       "</tr>\n",
       "<tr>\n",
       "  <th>30</th> <td>     5.664</td>  <td>     6.224</td>  <td>     288.2</td>  <td>     5.865</td> \n",
       "</tr>\n",
       "<tr>\n",
       "  <th>31</th> <td>     5.667</td>  <td>     6.246</td>  <td>     289.2</td>  <td>     5.876</td> \n",
       "</tr>\n",
       "<tr>\n",
       "  <th>32</th> <td>     5.671</td>  <td>     6.268</td>  <td>     290.3</td>  <td>     5.886</td> \n",
       "</tr>\n",
       "<tr>\n",
       "  <th>33</th> <td>     5.675</td>  <td>     6.290</td>  <td>     291.4</td>  <td>     5.896</td> \n",
       "</tr>\n",
       "<tr>\n",
       "  <th>34</th> <td>     5.678</td>  <td>     6.312</td>  <td>     292.3</td>  <td>     5.906</td> \n",
       "</tr>\n",
       "<tr>\n",
       "  <th>35</th> <td>     5.682</td>  <td>     6.334</td>  <td>     293.4</td>  <td>     5.917</td> \n",
       "</tr>\n",
       "<tr>\n",
       "  <th>36</th> <td>     5.681</td>  <td>     6.352</td>  <td>     293.2</td>  <td>     5.923</td> \n",
       "</tr>\n",
       "<tr>\n",
       "  <th>37</th> <td>     5.683</td>  <td>     6.372</td>  <td>     293.7</td>  <td>     5.931</td> \n",
       "</tr>\n",
       "<tr>\n",
       "  <th>38</th> <td>     5.685</td>  <td>     6.393</td>  <td>     294.5</td>  <td>     5.940</td> \n",
       "</tr>\n",
       "<tr>\n",
       "  <th>39</th> <td>     5.689</td>  <td>     6.416</td>  <td>     295.7</td>  <td>     5.951</td> \n",
       "</tr>\n",
       "<tr>\n",
       "  <th>40</th> <td>     5.694</td>  <td>     6.439</td>  <td>     297.1</td>  <td>     5.962</td> \n",
       "</tr>\n",
       "<tr>\n",
       "  <th>41</th> <td>     5.697</td>  <td>     6.460</td>  <td>     297.9</td>  <td>     5.972</td> \n",
       "</tr>\n",
       "<tr>\n",
       "  <th>42</th> <td>     5.699</td>  <td>     6.481</td>  <td>     298.7</td>  <td>     5.981</td> \n",
       "</tr>\n",
       "<tr>\n",
       "  <th>43</th> <td>     5.703</td>  <td>     6.503</td>  <td>     299.8</td>  <td>     5.991</td> \n",
       "</tr>\n",
       "<tr>\n",
       "  <th>44</th> <td>     5.704</td>  <td>     6.523</td>  <td>     300.1</td>  <td>     5.999</td> \n",
       "</tr>\n",
       "<tr>\n",
       "  <th>45</th> <td>     5.707</td>  <td>     6.544</td>  <td>     301.0</td>  <td>     6.008</td> \n",
       "</tr>\n",
       "<tr>\n",
       "  <th>46</th> <td>     5.709</td>  <td>     6.564</td>  <td>     301.6</td>  <td>     6.017</td> \n",
       "</tr>\n",
       "<tr>\n",
       "  <th>47</th> <td>     5.700</td>  <td>     6.574</td>  <td>     299.0</td>  <td>     6.015</td> \n",
       "</tr>\n",
       "<tr>\n",
       "  <th>48</th> <td>     5.698</td>  <td>     6.591</td>  <td>     298.5</td>  <td>     6.020</td> \n",
       "</tr>\n",
       "</table>"
      ],
      "text/plain": [
       "<class 'statsmodels.iolib.table.SimpleTable'>"
      ]
     },
     "execution_count": 16,
     "metadata": {},
     "output_type": "execute_result"
    }
   ],
   "source": [
    "model.select_order(48).summary()"
   ]
  },
  {
   "cell_type": "code",
   "execution_count": 17,
   "metadata": {
    "id": "TCmSUixyB45K"
   },
   "outputs": [],
   "source": [
    "model = VAR(df_train, freq=\"1H\")\n",
    "results = model.fit(7)"
   ]
  },
  {
   "cell_type": "code",
   "execution_count": 19,
   "metadata": {
    "colab": {
     "base_uri": "https://localhost:8080/"
    },
    "id": "Mt__k6JGEWKt",
    "outputId": "6686c5bf-7772-40e1-81a6-fb222d334f21"
   },
   "outputs": [
    {
     "name": "stdout",
     "output_type": "stream",
     "text": [
      "  Summary of Regression Results   \n",
      "==================================\n",
      "Model:                         VAR\n",
      "Method:                        OLS\n",
      "Date:           Fri, 14, May, 2021\n",
      "Time:                     16:26:32\n",
      "--------------------------------------------------------------------\n",
      "No. of Equations:         3.00000    BIC:                    5.98610\n",
      "Nobs:                     2954.00    HQIC:                   5.90043\n",
      "Log likelihood:          -21152.4    FPE:                    348.017\n",
      "AIC:                      5.85225    Det(Omega_mle):         340.356\n",
      "--------------------------------------------------------------------\n",
      "Results for equation Appliances\n",
      "================================================================================\n",
      "                   coefficient       std. error           t-stat            prob\n",
      "--------------------------------------------------------------------------------\n",
      "const                37.865935         3.448219           10.981           0.000\n",
      "L1.Appliances         0.451436         0.018470           24.442           0.000\n",
      "L1.T_out              2.328238         2.534185            0.919           0.358\n",
      "L1.Windspeed          2.268735         1.999042            1.135           0.256\n",
      "L2.Appliances         0.222279         0.020225           10.990           0.000\n",
      "L2.T_out             -4.372626         5.543555           -0.789           0.430\n",
      "L2.Windspeed         -1.481847         3.372020           -0.439           0.660\n",
      "L3.Appliances        -0.019489         0.020657           -0.943           0.345\n",
      "L3.T_out              5.606923         6.595733            0.850           0.395\n",
      "L3.Windspeed          0.184615         3.671449            0.050           0.960\n",
      "L4.Appliances        -0.043691         0.020657           -2.115           0.034\n",
      "L4.T_out             -5.435304         6.756484           -0.804           0.421\n",
      "L4.Windspeed         -0.086856         3.777195           -0.023           0.982\n",
      "L5.Appliances         0.007386         0.020673            0.357           0.721\n",
      "L5.T_out              5.171913         6.600647            0.784           0.433\n",
      "L5.Windspeed         -1.990310         3.671521           -0.542           0.588\n",
      "L6.Appliances        -0.016838         0.020263           -0.831           0.406\n",
      "L6.T_out              3.227034         5.582566            0.578           0.563\n",
      "L6.Windspeed          4.971647         3.365821            1.477           0.140\n",
      "L7.Appliances        -0.010919         0.018518           -0.590           0.555\n",
      "L7.T_out             -6.777338         2.558105           -2.649           0.008\n",
      "L7.Windspeed         -2.972593         1.993290           -1.491           0.136\n",
      "================================================================================\n",
      "\n",
      "Results for equation T_out\n",
      "================================================================================\n",
      "                   coefficient       std. error           t-stat            prob\n",
      "--------------------------------------------------------------------------------\n",
      "const                 0.231136         0.025269            9.147           0.000\n",
      "L1.Appliances         0.000246         0.000135            1.820           0.069\n",
      "L1.T_out              1.986331         0.018571          106.959           0.000\n",
      "L1.Windspeed         -0.022509         0.014649           -1.537           0.124\n",
      "L2.Appliances        -0.000193         0.000148           -1.305           0.192\n",
      "L2.T_out             -1.522224         0.040624          -37.471           0.000\n",
      "L2.Windspeed          0.037810         0.024711            1.530           0.126\n",
      "L3.Appliances        -0.000273         0.000151           -1.804           0.071\n",
      "L3.T_out              0.961124         0.048335           19.885           0.000\n",
      "L3.Windspeed         -0.042122         0.026905           -1.566           0.117\n",
      "L4.Appliances         0.000028         0.000151            0.187           0.852\n",
      "L4.T_out             -0.771764         0.049513          -15.587           0.000\n",
      "L4.Windspeed          0.034870         0.027680            1.260           0.208\n",
      "L5.Appliances        -0.000224         0.000151           -1.481           0.139\n",
      "L5.T_out              0.570844         0.048371           11.801           0.000\n",
      "L5.Windspeed         -0.012856         0.026905           -0.478           0.633\n",
      "L6.Appliances        -0.000184         0.000148           -1.239           0.215\n",
      "L6.T_out             -0.408795         0.040910           -9.993           0.000\n",
      "L6.Windspeed          0.032718         0.024665            1.326           0.185\n",
      "L7.Appliances        -0.000418         0.000136           -3.080           0.002\n",
      "L7.T_out              0.171528         0.018746            9.150           0.000\n",
      "L7.Windspeed         -0.038363         0.014607           -2.626           0.009\n",
      "================================================================================\n",
      "\n",
      "Results for equation Windspeed\n",
      "================================================================================\n",
      "                   coefficient       std. error           t-stat            prob\n",
      "--------------------------------------------------------------------------------\n",
      "const                 0.213512         0.032405            6.589           0.000\n",
      "L1.Appliances        -0.000340         0.000174           -1.957           0.050\n",
      "L1.T_out              0.251047         0.023815           10.542           0.000\n",
      "L1.Windspeed          1.361232         0.018786           72.460           0.000\n",
      "L2.Appliances         0.000264         0.000190            1.390           0.164\n",
      "L2.T_out             -0.354257         0.052095           -6.800           0.000\n",
      "L2.Windspeed         -0.773838         0.031688          -24.420           0.000\n",
      "L3.Appliances        -0.000321         0.000194           -1.655           0.098\n",
      "L3.T_out              0.178001         0.061983            2.872           0.004\n",
      "L3.Windspeed          0.623610         0.034502           18.074           0.000\n",
      "L4.Appliances         0.000217         0.000194            1.116           0.265\n",
      "L4.T_out             -0.142536         0.063494           -2.245           0.025\n",
      "L4.Windspeed         -0.443014         0.035496          -12.481           0.000\n",
      "L5.Appliances        -0.000298         0.000194           -1.536           0.124\n",
      "L5.T_out              0.056396         0.062029            0.909           0.363\n",
      "L5.Windspeed          0.297190         0.034503            8.613           0.000\n",
      "L6.Appliances         0.000250         0.000190            1.310           0.190\n",
      "L6.T_out              0.032108         0.052462            0.612           0.541\n",
      "L6.Windspeed         -0.170770         0.031630           -5.399           0.000\n",
      "L7.Appliances        -0.000290         0.000174           -1.664           0.096\n",
      "L7.T_out             -0.020804         0.024040           -0.865           0.387\n",
      "L7.Windspeed          0.065985         0.018732            3.523           0.000\n",
      "================================================================================\n",
      "\n",
      "Correlation matrix of residuals\n",
      "              Appliances     T_out  Windspeed\n",
      "Appliances      1.000000  0.081108   0.011828\n",
      "T_out           0.081108  1.000000   0.199185\n",
      "Windspeed       0.011828  0.199185   1.000000\n",
      "\n",
      "\n",
      "\n"
     ]
    }
   ],
   "source": [
    "print(results.summary())"
   ]
  },
  {
   "cell_type": "code",
   "execution_count": 20,
   "metadata": {
    "id": "ybVtC9NtFEHu"
   },
   "outputs": [],
   "source": [
    "lag=results.k_ar"
   ]
  },
  {
   "cell_type": "code",
   "execution_count": 21,
   "metadata": {
    "colab": {
     "base_uri": "https://localhost:8080/"
    },
    "id": "I6W7dPfOHWsW",
    "outputId": "ee86e783-1f25-4e58-9067-d0c20adb1f7f"
   },
   "outputs": [
    {
     "data": {
      "text/plain": [
       "array([[44.34598018,  8.92651619,  3.99333186],\n",
       "       [33.70923187,  8.81719814,  4.13871016],\n",
       "       [38.32344216,  9.01953267,  4.188856  ],\n",
       "       [53.39756915,  9.3356185 ,  4.31429082],\n",
       "       [60.93798924,  9.56974211,  4.40093836]])"
      ]
     },
     "execution_count": 21,
     "metadata": {},
     "output_type": "execute_result"
    }
   ],
   "source": [
    "results.forecast(df_train.values[-lag:],steps=5)"
   ]
  },
  {
   "cell_type": "code",
   "execution_count": 22,
   "metadata": {
    "colab": {
     "base_uri": "https://localhost:8080/",
     "height": 233
    },
    "id": "J72s5LjaJLjo",
    "outputId": "42a224bf-9d43-4d08-f58e-f8f92ff38448"
   },
   "outputs": [
    {
     "data": {
      "text/html": [
       "<div>\n",
       "<style scoped>\n",
       "    .dataframe tbody tr th:only-of-type {\n",
       "        vertical-align: middle;\n",
       "    }\n",
       "\n",
       "    .dataframe tbody tr th {\n",
       "        vertical-align: top;\n",
       "    }\n",
       "\n",
       "    .dataframe thead th {\n",
       "        text-align: right;\n",
       "    }\n",
       "</style>\n",
       "<table border=\"1\" class=\"dataframe\">\n",
       "  <thead>\n",
       "    <tr style=\"text-align: right;\">\n",
       "      <th></th>\n",
       "      <th>Appliances</th>\n",
       "      <th>T_out</th>\n",
       "      <th>Windspeed</th>\n",
       "    </tr>\n",
       "    <tr>\n",
       "      <th>date</th>\n",
       "      <th></th>\n",
       "      <th></th>\n",
       "      <th></th>\n",
       "    </tr>\n",
       "  </thead>\n",
       "  <tbody>\n",
       "    <tr>\n",
       "      <th>2016-05-14 02:00:00</th>\n",
       "      <td>60.000000</td>\n",
       "      <td>8.891667</td>\n",
       "      <td>3.166667</td>\n",
       "    </tr>\n",
       "    <tr>\n",
       "      <th>2016-05-14 03:00:00</th>\n",
       "      <td>60.000000</td>\n",
       "      <td>8.725000</td>\n",
       "      <td>2.833333</td>\n",
       "    </tr>\n",
       "    <tr>\n",
       "      <th>2016-05-14 04:00:00</th>\n",
       "      <td>60.000000</td>\n",
       "      <td>8.775000</td>\n",
       "      <td>4.416667</td>\n",
       "    </tr>\n",
       "    <tr>\n",
       "      <th>2016-05-14 05:00:00</th>\n",
       "      <td>56.666667</td>\n",
       "      <td>8.683333</td>\n",
       "      <td>5.000000</td>\n",
       "    </tr>\n",
       "    <tr>\n",
       "      <th>2016-05-14 06:00:00</th>\n",
       "      <td>63.333333</td>\n",
       "      <td>8.716667</td>\n",
       "      <td>5.000000</td>\n",
       "    </tr>\n",
       "  </tbody>\n",
       "</table>\n",
       "</div>"
      ],
      "text/plain": [
       "                     Appliances     T_out  Windspeed\n",
       "date                                                \n",
       "2016-05-14 02:00:00   60.000000  8.891667   3.166667\n",
       "2016-05-14 03:00:00   60.000000  8.725000   2.833333\n",
       "2016-05-14 04:00:00   60.000000  8.775000   4.416667\n",
       "2016-05-14 05:00:00   56.666667  8.683333   5.000000\n",
       "2016-05-14 06:00:00   63.333333  8.716667   5.000000"
      ]
     },
     "execution_count": 22,
     "metadata": {},
     "output_type": "execute_result"
    }
   ],
   "source": [
    "df_test[0:5]"
   ]
  },
  {
   "cell_type": "code",
   "execution_count": 23,
   "metadata": {
    "id": "OYRnQZkkTAwI"
   },
   "outputs": [],
   "source": [
    "df_coeff=pd.DataFrame([results.params['Appliances'],results.pvalues['Appliances']]).T"
   ]
  },
  {
   "cell_type": "code",
   "execution_count": 24,
   "metadata": {
    "colab": {
     "base_uri": "https://localhost:8080/",
     "height": 725
    },
    "id": "Embi1JA0TAlU",
    "outputId": "e1429493-8496-4250-c7c3-462062b369c0"
   },
   "outputs": [
    {
     "data": {
      "text/html": [
       "<div>\n",
       "<style scoped>\n",
       "    .dataframe tbody tr th:only-of-type {\n",
       "        vertical-align: middle;\n",
       "    }\n",
       "\n",
       "    .dataframe tbody tr th {\n",
       "        vertical-align: top;\n",
       "    }\n",
       "\n",
       "    .dataframe thead th {\n",
       "        text-align: right;\n",
       "    }\n",
       "</style>\n",
       "<table border=\"1\" class=\"dataframe\">\n",
       "  <thead>\n",
       "    <tr style=\"text-align: right;\">\n",
       "      <th></th>\n",
       "      <th>Appliances</th>\n",
       "      <th>Appliances</th>\n",
       "    </tr>\n",
       "  </thead>\n",
       "  <tbody>\n",
       "    <tr>\n",
       "      <th>const</th>\n",
       "      <td>37.865935</td>\n",
       "      <td>4.701032e-28</td>\n",
       "    </tr>\n",
       "    <tr>\n",
       "      <th>L1.Appliances</th>\n",
       "      <td>0.451436</td>\n",
       "      <td>6.138160e-132</td>\n",
       "    </tr>\n",
       "    <tr>\n",
       "      <th>L1.T_out</th>\n",
       "      <td>2.328238</td>\n",
       "      <td>3.582355e-01</td>\n",
       "    </tr>\n",
       "    <tr>\n",
       "      <th>L1.Windspeed</th>\n",
       "      <td>2.268735</td>\n",
       "      <td>2.564126e-01</td>\n",
       "    </tr>\n",
       "    <tr>\n",
       "      <th>L2.Appliances</th>\n",
       "      <td>0.222279</td>\n",
       "      <td>4.255512e-28</td>\n",
       "    </tr>\n",
       "    <tr>\n",
       "      <th>L2.T_out</th>\n",
       "      <td>-4.372626</td>\n",
       "      <td>4.302427e-01</td>\n",
       "    </tr>\n",
       "    <tr>\n",
       "      <th>L2.Windspeed</th>\n",
       "      <td>-1.481847</td>\n",
       "      <td>6.603327e-01</td>\n",
       "    </tr>\n",
       "    <tr>\n",
       "      <th>L3.Appliances</th>\n",
       "      <td>-0.019489</td>\n",
       "      <td>3.454670e-01</td>\n",
       "    </tr>\n",
       "    <tr>\n",
       "      <th>L3.T_out</th>\n",
       "      <td>5.606923</td>\n",
       "      <td>3.952787e-01</td>\n",
       "    </tr>\n",
       "    <tr>\n",
       "      <th>L3.Windspeed</th>\n",
       "      <td>0.184615</td>\n",
       "      <td>9.598961e-01</td>\n",
       "    </tr>\n",
       "    <tr>\n",
       "      <th>L4.Appliances</th>\n",
       "      <td>-0.043691</td>\n",
       "      <td>3.442733e-02</td>\n",
       "    </tr>\n",
       "    <tr>\n",
       "      <th>L4.T_out</th>\n",
       "      <td>-5.435304</td>\n",
       "      <td>4.211329e-01</td>\n",
       "    </tr>\n",
       "    <tr>\n",
       "      <th>L4.Windspeed</th>\n",
       "      <td>-0.086856</td>\n",
       "      <td>9.816543e-01</td>\n",
       "    </tr>\n",
       "    <tr>\n",
       "      <th>L5.Appliances</th>\n",
       "      <td>0.007386</td>\n",
       "      <td>7.208724e-01</td>\n",
       "    </tr>\n",
       "    <tr>\n",
       "      <th>L5.T_out</th>\n",
       "      <td>5.171913</td>\n",
       "      <td>4.333064e-01</td>\n",
       "    </tr>\n",
       "    <tr>\n",
       "      <th>L5.Windspeed</th>\n",
       "      <td>-1.990310</td>\n",
       "      <td>5.877537e-01</td>\n",
       "    </tr>\n",
       "    <tr>\n",
       "      <th>L6.Appliances</th>\n",
       "      <td>-0.016838</td>\n",
       "      <td>4.059770e-01</td>\n",
       "    </tr>\n",
       "    <tr>\n",
       "      <th>L6.T_out</th>\n",
       "      <td>3.227034</td>\n",
       "      <td>5.632265e-01</td>\n",
       "    </tr>\n",
       "    <tr>\n",
       "      <th>L6.Windspeed</th>\n",
       "      <td>4.971647</td>\n",
       "      <td>1.396495e-01</td>\n",
       "    </tr>\n",
       "    <tr>\n",
       "      <th>L7.Appliances</th>\n",
       "      <td>-0.010919</td>\n",
       "      <td>5.554416e-01</td>\n",
       "    </tr>\n",
       "    <tr>\n",
       "      <th>L7.T_out</th>\n",
       "      <td>-6.777338</td>\n",
       "      <td>8.064473e-03</td>\n",
       "    </tr>\n",
       "    <tr>\n",
       "      <th>L7.Windspeed</th>\n",
       "      <td>-2.972593</td>\n",
       "      <td>1.358828e-01</td>\n",
       "    </tr>\n",
       "  </tbody>\n",
       "</table>\n",
       "</div>"
      ],
      "text/plain": [
       "               Appliances     Appliances\n",
       "const           37.865935   4.701032e-28\n",
       "L1.Appliances    0.451436  6.138160e-132\n",
       "L1.T_out         2.328238   3.582355e-01\n",
       "L1.Windspeed     2.268735   2.564126e-01\n",
       "L2.Appliances    0.222279   4.255512e-28\n",
       "L2.T_out        -4.372626   4.302427e-01\n",
       "L2.Windspeed    -1.481847   6.603327e-01\n",
       "L3.Appliances   -0.019489   3.454670e-01\n",
       "L3.T_out         5.606923   3.952787e-01\n",
       "L3.Windspeed     0.184615   9.598961e-01\n",
       "L4.Appliances   -0.043691   3.442733e-02\n",
       "L4.T_out        -5.435304   4.211329e-01\n",
       "L4.Windspeed    -0.086856   9.816543e-01\n",
       "L5.Appliances    0.007386   7.208724e-01\n",
       "L5.T_out         5.171913   4.333064e-01\n",
       "L5.Windspeed    -1.990310   5.877537e-01\n",
       "L6.Appliances   -0.016838   4.059770e-01\n",
       "L6.T_out         3.227034   5.632265e-01\n",
       "L6.Windspeed     4.971647   1.396495e-01\n",
       "L7.Appliances   -0.010919   5.554416e-01\n",
       "L7.T_out        -6.777338   8.064473e-03\n",
       "L7.Windspeed    -2.972593   1.358828e-01"
      ]
     },
     "execution_count": 24,
     "metadata": {},
     "output_type": "execute_result"
    }
   ],
   "source": [
    "df_coeff"
   ]
  },
  {
   "cell_type": "code",
   "execution_count": 25,
   "metadata": {
    "id": "ENYNTvKCr08L"
   },
   "outputs": [],
   "source": [
    "df_coeff.columns = ['coeff','pval']"
   ]
  },
  {
   "cell_type": "code",
   "execution_count": 26,
   "metadata": {
    "colab": {
     "base_uri": "https://localhost:8080/"
    },
    "id": "L8_x8m7TsASq",
    "outputId": "e24adf4b-9a38-4349-d44d-a7f8d5e448f5"
   },
   "outputs": [
    {
     "data": {
      "text/plain": [
       "array([1, 1, 0, 0, 1, 0, 0, 0, 0, 0, 1, 0, 0, 0, 0, 0, 0, 0, 0, 0, 1, 0])"
      ]
     },
     "execution_count": 26,
     "metadata": {},
     "output_type": "execute_result"
    }
   ],
   "source": [
    "df_coeff.query('pval < 0.05')\n",
    "np.where(df_coeff['pval'] < 0.05,1, 0)"
   ]
  },
  {
   "cell_type": "code",
   "execution_count": 27,
   "metadata": {
    "id": "L37Mls_FtTAa"
   },
   "outputs": [],
   "source": [
    "df_coeff['valid']=np.where(df_coeff['pval'] < 0.05,1, 0)"
   ]
  },
  {
   "cell_type": "code",
   "execution_count": 28,
   "metadata": {
    "colab": {
     "base_uri": "https://localhost:8080/",
     "height": 725
    },
    "id": "xrB5Ngwc6OhI",
    "outputId": "87e567c2-0e8a-4225-f6ad-559526b6b891"
   },
   "outputs": [
    {
     "data": {
      "text/html": [
       "<div>\n",
       "<style scoped>\n",
       "    .dataframe tbody tr th:only-of-type {\n",
       "        vertical-align: middle;\n",
       "    }\n",
       "\n",
       "    .dataframe tbody tr th {\n",
       "        vertical-align: top;\n",
       "    }\n",
       "\n",
       "    .dataframe thead th {\n",
       "        text-align: right;\n",
       "    }\n",
       "</style>\n",
       "<table border=\"1\" class=\"dataframe\">\n",
       "  <thead>\n",
       "    <tr style=\"text-align: right;\">\n",
       "      <th></th>\n",
       "      <th>coeff</th>\n",
       "      <th>pval</th>\n",
       "      <th>valid</th>\n",
       "    </tr>\n",
       "  </thead>\n",
       "  <tbody>\n",
       "    <tr>\n",
       "      <th>const</th>\n",
       "      <td>37.865935</td>\n",
       "      <td>4.701032e-28</td>\n",
       "      <td>1</td>\n",
       "    </tr>\n",
       "    <tr>\n",
       "      <th>L1.Appliances</th>\n",
       "      <td>0.451436</td>\n",
       "      <td>6.138160e-132</td>\n",
       "      <td>1</td>\n",
       "    </tr>\n",
       "    <tr>\n",
       "      <th>L1.T_out</th>\n",
       "      <td>2.328238</td>\n",
       "      <td>3.582355e-01</td>\n",
       "      <td>0</td>\n",
       "    </tr>\n",
       "    <tr>\n",
       "      <th>L1.Windspeed</th>\n",
       "      <td>2.268735</td>\n",
       "      <td>2.564126e-01</td>\n",
       "      <td>0</td>\n",
       "    </tr>\n",
       "    <tr>\n",
       "      <th>L2.Appliances</th>\n",
       "      <td>0.222279</td>\n",
       "      <td>4.255512e-28</td>\n",
       "      <td>1</td>\n",
       "    </tr>\n",
       "    <tr>\n",
       "      <th>L2.T_out</th>\n",
       "      <td>-4.372626</td>\n",
       "      <td>4.302427e-01</td>\n",
       "      <td>0</td>\n",
       "    </tr>\n",
       "    <tr>\n",
       "      <th>L2.Windspeed</th>\n",
       "      <td>-1.481847</td>\n",
       "      <td>6.603327e-01</td>\n",
       "      <td>0</td>\n",
       "    </tr>\n",
       "    <tr>\n",
       "      <th>L3.Appliances</th>\n",
       "      <td>-0.019489</td>\n",
       "      <td>3.454670e-01</td>\n",
       "      <td>0</td>\n",
       "    </tr>\n",
       "    <tr>\n",
       "      <th>L3.T_out</th>\n",
       "      <td>5.606923</td>\n",
       "      <td>3.952787e-01</td>\n",
       "      <td>0</td>\n",
       "    </tr>\n",
       "    <tr>\n",
       "      <th>L3.Windspeed</th>\n",
       "      <td>0.184615</td>\n",
       "      <td>9.598961e-01</td>\n",
       "      <td>0</td>\n",
       "    </tr>\n",
       "    <tr>\n",
       "      <th>L4.Appliances</th>\n",
       "      <td>-0.043691</td>\n",
       "      <td>3.442733e-02</td>\n",
       "      <td>1</td>\n",
       "    </tr>\n",
       "    <tr>\n",
       "      <th>L4.T_out</th>\n",
       "      <td>-5.435304</td>\n",
       "      <td>4.211329e-01</td>\n",
       "      <td>0</td>\n",
       "    </tr>\n",
       "    <tr>\n",
       "      <th>L4.Windspeed</th>\n",
       "      <td>-0.086856</td>\n",
       "      <td>9.816543e-01</td>\n",
       "      <td>0</td>\n",
       "    </tr>\n",
       "    <tr>\n",
       "      <th>L5.Appliances</th>\n",
       "      <td>0.007386</td>\n",
       "      <td>7.208724e-01</td>\n",
       "      <td>0</td>\n",
       "    </tr>\n",
       "    <tr>\n",
       "      <th>L5.T_out</th>\n",
       "      <td>5.171913</td>\n",
       "      <td>4.333064e-01</td>\n",
       "      <td>0</td>\n",
       "    </tr>\n",
       "    <tr>\n",
       "      <th>L5.Windspeed</th>\n",
       "      <td>-1.990310</td>\n",
       "      <td>5.877537e-01</td>\n",
       "      <td>0</td>\n",
       "    </tr>\n",
       "    <tr>\n",
       "      <th>L6.Appliances</th>\n",
       "      <td>-0.016838</td>\n",
       "      <td>4.059770e-01</td>\n",
       "      <td>0</td>\n",
       "    </tr>\n",
       "    <tr>\n",
       "      <th>L6.T_out</th>\n",
       "      <td>3.227034</td>\n",
       "      <td>5.632265e-01</td>\n",
       "      <td>0</td>\n",
       "    </tr>\n",
       "    <tr>\n",
       "      <th>L6.Windspeed</th>\n",
       "      <td>4.971647</td>\n",
       "      <td>1.396495e-01</td>\n",
       "      <td>0</td>\n",
       "    </tr>\n",
       "    <tr>\n",
       "      <th>L7.Appliances</th>\n",
       "      <td>-0.010919</td>\n",
       "      <td>5.554416e-01</td>\n",
       "      <td>0</td>\n",
       "    </tr>\n",
       "    <tr>\n",
       "      <th>L7.T_out</th>\n",
       "      <td>-6.777338</td>\n",
       "      <td>8.064473e-03</td>\n",
       "      <td>1</td>\n",
       "    </tr>\n",
       "    <tr>\n",
       "      <th>L7.Windspeed</th>\n",
       "      <td>-2.972593</td>\n",
       "      <td>1.358828e-01</td>\n",
       "      <td>0</td>\n",
       "    </tr>\n",
       "  </tbody>\n",
       "</table>\n",
       "</div>"
      ],
      "text/plain": [
       "                   coeff           pval  valid\n",
       "const          37.865935   4.701032e-28      1\n",
       "L1.Appliances   0.451436  6.138160e-132      1\n",
       "L1.T_out        2.328238   3.582355e-01      0\n",
       "L1.Windspeed    2.268735   2.564126e-01      0\n",
       "L2.Appliances   0.222279   4.255512e-28      1\n",
       "L2.T_out       -4.372626   4.302427e-01      0\n",
       "L2.Windspeed   -1.481847   6.603327e-01      0\n",
       "L3.Appliances  -0.019489   3.454670e-01      0\n",
       "L3.T_out        5.606923   3.952787e-01      0\n",
       "L3.Windspeed    0.184615   9.598961e-01      0\n",
       "L4.Appliances  -0.043691   3.442733e-02      1\n",
       "L4.T_out       -5.435304   4.211329e-01      0\n",
       "L4.Windspeed   -0.086856   9.816543e-01      0\n",
       "L5.Appliances   0.007386   7.208724e-01      0\n",
       "L5.T_out        5.171913   4.333064e-01      0\n",
       "L5.Windspeed   -1.990310   5.877537e-01      0\n",
       "L6.Appliances  -0.016838   4.059770e-01      0\n",
       "L6.T_out        3.227034   5.632265e-01      0\n",
       "L6.Windspeed    4.971647   1.396495e-01      0\n",
       "L7.Appliances  -0.010919   5.554416e-01      0\n",
       "L7.T_out       -6.777338   8.064473e-03      1\n",
       "L7.Windspeed   -2.972593   1.358828e-01      0"
      ]
     },
     "execution_count": 28,
     "metadata": {},
     "output_type": "execute_result"
    }
   ],
   "source": [
    "df_coeff"
   ]
  },
  {
   "cell_type": "code",
   "execution_count": 29,
   "metadata": {
    "id": "-r0g84p66Ulg"
   },
   "outputs": [],
   "source": [
    "#coeff_arr=np.multiply(df_coeff['coeff'], df_coeff['valid'])[1:].values\n",
    "coeff_arr=df_coeff['coeff'][1:].values"
   ]
  },
  {
   "cell_type": "code",
   "execution_count": 30,
   "metadata": {
    "colab": {
     "base_uri": "https://localhost:8080/"
    },
    "id": "NKmlS-DA-74O",
    "outputId": "ebb8e747-c067-4552-fd23-5e4e33e115ca"
   },
   "outputs": [
    {
     "data": {
      "text/plain": [
       "(21,)"
      ]
     },
     "execution_count": 30,
     "metadata": {},
     "output_type": "execute_result"
    }
   ],
   "source": [
    "coeff_arr.shape"
   ]
  },
  {
   "cell_type": "code",
   "execution_count": 31,
   "metadata": {
    "colab": {
     "base_uri": "https://localhost:8080/"
    },
    "id": "xkXCQBWgCu8T",
    "outputId": "0270fff2-2c07-4f2c-8324-f0448e1948ff"
   },
   "outputs": [
    {
     "data": {
      "text/plain": [
       "array([ 0.45143647,  2.32823846,  2.26873466,  0.2222793 , -4.37262576,\n",
       "       -1.48184722, -0.01948858,  5.60692324,  0.18461514, -0.04369054,\n",
       "       -5.43530357, -0.08685622,  0.00738616,  5.17191268, -1.99030973,\n",
       "       -0.01683822,  3.22703425,  4.97164661, -0.01091878, -6.77733848,\n",
       "       -2.97259279])"
      ]
     },
     "execution_count": 31,
     "metadata": {},
     "output_type": "execute_result"
    }
   ],
   "source": [
    "coeff_arr"
   ]
  },
  {
   "cell_type": "code",
   "execution_count": 32,
   "metadata": {
    "colab": {
     "base_uri": "https://localhost:8080/",
     "height": 295
    },
    "id": "YYhgjior6UN6",
    "outputId": "83be1fe3-d525-443e-d1ae-2d664eacacb4"
   },
   "outputs": [
    {
     "data": {
      "text/html": [
       "<div>\n",
       "<style scoped>\n",
       "    .dataframe tbody tr th:only-of-type {\n",
       "        vertical-align: middle;\n",
       "    }\n",
       "\n",
       "    .dataframe tbody tr th {\n",
       "        vertical-align: top;\n",
       "    }\n",
       "\n",
       "    .dataframe thead th {\n",
       "        text-align: right;\n",
       "    }\n",
       "</style>\n",
       "<table border=\"1\" class=\"dataframe\">\n",
       "  <thead>\n",
       "    <tr style=\"text-align: right;\">\n",
       "      <th></th>\n",
       "      <th>Appliances</th>\n",
       "      <th>T_out</th>\n",
       "      <th>Windspeed</th>\n",
       "    </tr>\n",
       "    <tr>\n",
       "      <th>date</th>\n",
       "      <th></th>\n",
       "      <th></th>\n",
       "      <th></th>\n",
       "    </tr>\n",
       "  </thead>\n",
       "  <tbody>\n",
       "    <tr>\n",
       "      <th>2016-05-13 19:00:00</th>\n",
       "      <td>208.333333</td>\n",
       "      <td>19.333333</td>\n",
       "      <td>9.000000</td>\n",
       "    </tr>\n",
       "    <tr>\n",
       "      <th>2016-05-13 20:00:00</th>\n",
       "      <td>120.000000</td>\n",
       "      <td>17.066667</td>\n",
       "      <td>8.166667</td>\n",
       "    </tr>\n",
       "    <tr>\n",
       "      <th>2016-05-13 21:00:00</th>\n",
       "      <td>63.333333</td>\n",
       "      <td>14.116667</td>\n",
       "      <td>6.583333</td>\n",
       "    </tr>\n",
       "    <tr>\n",
       "      <th>2016-05-13 22:00:00</th>\n",
       "      <td>55.000000</td>\n",
       "      <td>11.850000</td>\n",
       "      <td>6.833333</td>\n",
       "    </tr>\n",
       "    <tr>\n",
       "      <th>2016-05-13 23:00:00</th>\n",
       "      <td>61.666667</td>\n",
       "      <td>10.466667</td>\n",
       "      <td>7.583333</td>\n",
       "    </tr>\n",
       "    <tr>\n",
       "      <th>2016-05-14 00:00:00</th>\n",
       "      <td>58.333333</td>\n",
       "      <td>9.791667</td>\n",
       "      <td>5.750000</td>\n",
       "    </tr>\n",
       "    <tr>\n",
       "      <th>2016-05-14 01:00:00</th>\n",
       "      <td>63.333333</td>\n",
       "      <td>9.333333</td>\n",
       "      <td>4.000000</td>\n",
       "    </tr>\n",
       "  </tbody>\n",
       "</table>\n",
       "</div>"
      ],
      "text/plain": [
       "                     Appliances      T_out  Windspeed\n",
       "date                                                 \n",
       "2016-05-13 19:00:00  208.333333  19.333333   9.000000\n",
       "2016-05-13 20:00:00  120.000000  17.066667   8.166667\n",
       "2016-05-13 21:00:00   63.333333  14.116667   6.583333\n",
       "2016-05-13 22:00:00   55.000000  11.850000   6.833333\n",
       "2016-05-13 23:00:00   61.666667  10.466667   7.583333\n",
       "2016-05-14 00:00:00   58.333333   9.791667   5.750000\n",
       "2016-05-14 01:00:00   63.333333   9.333333   4.000000"
      ]
     },
     "execution_count": 32,
     "metadata": {},
     "output_type": "execute_result"
    }
   ],
   "source": [
    "df_train[-lag:]"
   ]
  },
  {
   "cell_type": "code",
   "execution_count": 33,
   "metadata": {
    "id": "saFUyF_N7TsI"
   },
   "outputs": [],
   "source": [
    "in_arr=df_train[-lag:][::-1].stack().to_frame().T.values"
   ]
  },
  {
   "cell_type": "code",
   "execution_count": 34,
   "metadata": {
    "colab": {
     "base_uri": "https://localhost:8080/"
    },
    "id": "wWk02qd67Tem",
    "outputId": "e013ba6a-d4c9-41ff-9004-cc566bcdadca"
   },
   "outputs": [
    {
     "data": {
      "text/plain": [
       "(1, 21)"
      ]
     },
     "execution_count": 34,
     "metadata": {},
     "output_type": "execute_result"
    }
   ],
   "source": [
    "in_arr.shape"
   ]
  },
  {
   "cell_type": "code",
   "execution_count": 35,
   "metadata": {
    "colab": {
     "base_uri": "https://localhost:8080/"
    },
    "id": "593Luc1u_60o",
    "outputId": "5c315bc9-c206-4f4b-f0c8-28a4fbbe7604"
   },
   "outputs": [
    {
     "data": {
      "text/plain": [
       "array([[ 63.33333333,   9.33333333,   4.        ,  58.33333333,\n",
       "          9.79166667,   5.75      ,  61.66666667,  10.46666667,\n",
       "          7.58333333,  55.        ,  11.85      ,   6.83333333,\n",
       "         63.33333333,  14.11666667,   6.58333333, 120.        ,\n",
       "         17.06666667,   8.16666667, 208.33333333,  19.33333333,\n",
       "          9.        ]])"
      ]
     },
     "execution_count": 35,
     "metadata": {},
     "output_type": "execute_result"
    }
   ],
   "source": [
    "in_arr"
   ]
  },
  {
   "cell_type": "code",
   "execution_count": 36,
   "metadata": {
    "colab": {
     "base_uri": "https://localhost:8080/"
    },
    "id": "bVVxyZNo_A4X",
    "outputId": "a774e452-8188-4de8-89db-b1ffbc385ad9"
   },
   "outputs": [
    {
     "data": {
      "text/plain": [
       "array([44.34598018])"
      ]
     },
     "execution_count": 36,
     "metadata": {},
     "output_type": "execute_result"
    }
   ],
   "source": [
    "np.dot(in_arr, coeff_arr)+df_coeff['coeff'][:1].values"
   ]
  },
  {
   "cell_type": "code",
   "execution_count": null,
   "metadata": {
    "id": "lGfrzBT3NAr_"
   },
   "outputs": [],
   "source": []
  }
 ],
 "metadata": {
  "colab": {
   "authorship_tag": "ABX9TyOUd9qea/fBytRLMdjOaTr0",
   "collapsed_sections": [],
   "include_colab_link": true,
   "name": "Multivariate Time Series using VAR.ipynb",
   "provenance": []
  },
  "kernelspec": {
   "display_name": "Python [conda env:ftrml_milad]",
   "language": "python",
   "name": "conda-env-ftrml_milad-py"
  },
  "language_info": {
   "codemirror_mode": {
    "name": "ipython",
    "version": 3
   },
   "file_extension": ".py",
   "mimetype": "text/x-python",
   "name": "python",
   "nbconvert_exporter": "python",
   "pygments_lexer": "ipython3",
   "version": "3.7.0"
  }
 },
 "nbformat": 4,
 "nbformat_minor": 1
}
