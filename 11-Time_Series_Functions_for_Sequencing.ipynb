{
 "cells": [
  {
   "cell_type": "markdown",
   "metadata": {
    "colab_type": "text",
    "id": "view-in-github"
   },
   "source": [
    "<a href=\"https://colab.research.google.com/github/srivatsan88/End-to-End-Time-Series/blob/master/Time_Series_Functions_for_Sequencing.ipynb\" target=\"_parent\"><img src=\"https://colab.research.google.com/assets/colab-badge.svg\" alt=\"Open In Colab\"/></a>"
   ]
  },
  {
   "cell_type": "code",
   "execution_count": 1,
   "metadata": {
    "id": "_GY3HgVB7T8D"
   },
   "outputs": [],
   "source": [
    "import pandas as pd\n",
    "import matplotlib as mpl\n",
    "import matplotlib.pyplot as plt\n",
    "from keras.preprocessing.sequence import TimeseriesGenerator\n",
    "from IPython.display import Image, display\n",
    "\n",
    "\n",
    "mpl.rcParams['figure.figsize'] = (10, 8)\n",
    "mpl.rcParams['axes.grid'] = False"
   ]
  },
  {
   "cell_type": "code",
   "execution_count": 2,
   "metadata": {
    "id": "lmNbWyCJ7n0a"
   },
   "outputs": [],
   "source": [
    "df = pd.read_csv('https://archive.ics.uci.edu/ml/machine-learning-databases/00374/energydata_complete.csv')"
   ]
  },
  {
   "cell_type": "code",
   "execution_count": 3,
   "metadata": {
    "colab": {
     "base_uri": "https://localhost:8080/",
     "height": 780
    },
    "id": "4MZJsxPq76CN",
    "outputId": "4def1d7e-270a-45c1-9458-72fdcf8393fd"
   },
   "outputs": [
    {
     "data": {
      "text/html": [
       "<div>\n",
       "<style scoped>\n",
       "    .dataframe tbody tr th:only-of-type {\n",
       "        vertical-align: middle;\n",
       "    }\n",
       "\n",
       "    .dataframe tbody tr th {\n",
       "        vertical-align: top;\n",
       "    }\n",
       "\n",
       "    .dataframe thead th {\n",
       "        text-align: right;\n",
       "    }\n",
       "</style>\n",
       "<table border=\"1\" class=\"dataframe\">\n",
       "  <thead>\n",
       "    <tr style=\"text-align: right;\">\n",
       "      <th></th>\n",
       "      <th>date</th>\n",
       "      <th>Appliances</th>\n",
       "      <th>lights</th>\n",
       "      <th>T1</th>\n",
       "      <th>RH_1</th>\n",
       "      <th>T2</th>\n",
       "      <th>RH_2</th>\n",
       "      <th>T3</th>\n",
       "      <th>RH_3</th>\n",
       "      <th>T4</th>\n",
       "      <th>...</th>\n",
       "      <th>T9</th>\n",
       "      <th>RH_9</th>\n",
       "      <th>T_out</th>\n",
       "      <th>Press_mm_hg</th>\n",
       "      <th>RH_out</th>\n",
       "      <th>Windspeed</th>\n",
       "      <th>Visibility</th>\n",
       "      <th>Tdewpoint</th>\n",
       "      <th>rv1</th>\n",
       "      <th>rv2</th>\n",
       "    </tr>\n",
       "  </thead>\n",
       "  <tbody>\n",
       "    <tr>\n",
       "      <th>0</th>\n",
       "      <td>2016-01-11 17:00:00</td>\n",
       "      <td>60</td>\n",
       "      <td>30</td>\n",
       "      <td>19.890000</td>\n",
       "      <td>47.596667</td>\n",
       "      <td>19.200000</td>\n",
       "      <td>44.790000</td>\n",
       "      <td>19.790000</td>\n",
       "      <td>44.730000</td>\n",
       "      <td>19.000000</td>\n",
       "      <td>...</td>\n",
       "      <td>17.033333</td>\n",
       "      <td>45.5300</td>\n",
       "      <td>6.600000</td>\n",
       "      <td>733.5</td>\n",
       "      <td>92.000000</td>\n",
       "      <td>7.000000</td>\n",
       "      <td>63.000000</td>\n",
       "      <td>5.300000</td>\n",
       "      <td>13.275433</td>\n",
       "      <td>13.275433</td>\n",
       "    </tr>\n",
       "    <tr>\n",
       "      <th>1</th>\n",
       "      <td>2016-01-11 17:10:00</td>\n",
       "      <td>60</td>\n",
       "      <td>30</td>\n",
       "      <td>19.890000</td>\n",
       "      <td>46.693333</td>\n",
       "      <td>19.200000</td>\n",
       "      <td>44.722500</td>\n",
       "      <td>19.790000</td>\n",
       "      <td>44.790000</td>\n",
       "      <td>19.000000</td>\n",
       "      <td>...</td>\n",
       "      <td>17.066667</td>\n",
       "      <td>45.5600</td>\n",
       "      <td>6.483333</td>\n",
       "      <td>733.6</td>\n",
       "      <td>92.000000</td>\n",
       "      <td>6.666667</td>\n",
       "      <td>59.166667</td>\n",
       "      <td>5.200000</td>\n",
       "      <td>18.606195</td>\n",
       "      <td>18.606195</td>\n",
       "    </tr>\n",
       "    <tr>\n",
       "      <th>2</th>\n",
       "      <td>2016-01-11 17:20:00</td>\n",
       "      <td>50</td>\n",
       "      <td>30</td>\n",
       "      <td>19.890000</td>\n",
       "      <td>46.300000</td>\n",
       "      <td>19.200000</td>\n",
       "      <td>44.626667</td>\n",
       "      <td>19.790000</td>\n",
       "      <td>44.933333</td>\n",
       "      <td>18.926667</td>\n",
       "      <td>...</td>\n",
       "      <td>17.000000</td>\n",
       "      <td>45.5000</td>\n",
       "      <td>6.366667</td>\n",
       "      <td>733.7</td>\n",
       "      <td>92.000000</td>\n",
       "      <td>6.333333</td>\n",
       "      <td>55.333333</td>\n",
       "      <td>5.100000</td>\n",
       "      <td>28.642668</td>\n",
       "      <td>28.642668</td>\n",
       "    </tr>\n",
       "    <tr>\n",
       "      <th>3</th>\n",
       "      <td>2016-01-11 17:30:00</td>\n",
       "      <td>50</td>\n",
       "      <td>40</td>\n",
       "      <td>19.890000</td>\n",
       "      <td>46.066667</td>\n",
       "      <td>19.200000</td>\n",
       "      <td>44.590000</td>\n",
       "      <td>19.790000</td>\n",
       "      <td>45.000000</td>\n",
       "      <td>18.890000</td>\n",
       "      <td>...</td>\n",
       "      <td>17.000000</td>\n",
       "      <td>45.4000</td>\n",
       "      <td>6.250000</td>\n",
       "      <td>733.8</td>\n",
       "      <td>92.000000</td>\n",
       "      <td>6.000000</td>\n",
       "      <td>51.500000</td>\n",
       "      <td>5.000000</td>\n",
       "      <td>45.410389</td>\n",
       "      <td>45.410389</td>\n",
       "    </tr>\n",
       "    <tr>\n",
       "      <th>4</th>\n",
       "      <td>2016-01-11 17:40:00</td>\n",
       "      <td>60</td>\n",
       "      <td>40</td>\n",
       "      <td>19.890000</td>\n",
       "      <td>46.333333</td>\n",
       "      <td>19.200000</td>\n",
       "      <td>44.530000</td>\n",
       "      <td>19.790000</td>\n",
       "      <td>45.000000</td>\n",
       "      <td>18.890000</td>\n",
       "      <td>...</td>\n",
       "      <td>17.000000</td>\n",
       "      <td>45.4000</td>\n",
       "      <td>6.133333</td>\n",
       "      <td>733.9</td>\n",
       "      <td>92.000000</td>\n",
       "      <td>5.666667</td>\n",
       "      <td>47.666667</td>\n",
       "      <td>4.900000</td>\n",
       "      <td>10.084097</td>\n",
       "      <td>10.084097</td>\n",
       "    </tr>\n",
       "    <tr>\n",
       "      <th>...</th>\n",
       "      <td>...</td>\n",
       "      <td>...</td>\n",
       "      <td>...</td>\n",
       "      <td>...</td>\n",
       "      <td>...</td>\n",
       "      <td>...</td>\n",
       "      <td>...</td>\n",
       "      <td>...</td>\n",
       "      <td>...</td>\n",
       "      <td>...</td>\n",
       "      <td>...</td>\n",
       "      <td>...</td>\n",
       "      <td>...</td>\n",
       "      <td>...</td>\n",
       "      <td>...</td>\n",
       "      <td>...</td>\n",
       "      <td>...</td>\n",
       "      <td>...</td>\n",
       "      <td>...</td>\n",
       "      <td>...</td>\n",
       "      <td>...</td>\n",
       "    </tr>\n",
       "    <tr>\n",
       "      <th>19730</th>\n",
       "      <td>2016-05-27 17:20:00</td>\n",
       "      <td>100</td>\n",
       "      <td>0</td>\n",
       "      <td>25.566667</td>\n",
       "      <td>46.560000</td>\n",
       "      <td>25.890000</td>\n",
       "      <td>42.025714</td>\n",
       "      <td>27.200000</td>\n",
       "      <td>41.163333</td>\n",
       "      <td>24.700000</td>\n",
       "      <td>...</td>\n",
       "      <td>23.200000</td>\n",
       "      <td>46.7900</td>\n",
       "      <td>22.733333</td>\n",
       "      <td>755.2</td>\n",
       "      <td>55.666667</td>\n",
       "      <td>3.333333</td>\n",
       "      <td>23.666667</td>\n",
       "      <td>13.333333</td>\n",
       "      <td>43.096812</td>\n",
       "      <td>43.096812</td>\n",
       "    </tr>\n",
       "    <tr>\n",
       "      <th>19731</th>\n",
       "      <td>2016-05-27 17:30:00</td>\n",
       "      <td>90</td>\n",
       "      <td>0</td>\n",
       "      <td>25.500000</td>\n",
       "      <td>46.500000</td>\n",
       "      <td>25.754000</td>\n",
       "      <td>42.080000</td>\n",
       "      <td>27.133333</td>\n",
       "      <td>41.223333</td>\n",
       "      <td>24.700000</td>\n",
       "      <td>...</td>\n",
       "      <td>23.200000</td>\n",
       "      <td>46.7900</td>\n",
       "      <td>22.600000</td>\n",
       "      <td>755.2</td>\n",
       "      <td>56.000000</td>\n",
       "      <td>3.500000</td>\n",
       "      <td>24.500000</td>\n",
       "      <td>13.300000</td>\n",
       "      <td>49.282940</td>\n",
       "      <td>49.282940</td>\n",
       "    </tr>\n",
       "    <tr>\n",
       "      <th>19732</th>\n",
       "      <td>2016-05-27 17:40:00</td>\n",
       "      <td>270</td>\n",
       "      <td>10</td>\n",
       "      <td>25.500000</td>\n",
       "      <td>46.596667</td>\n",
       "      <td>25.628571</td>\n",
       "      <td>42.768571</td>\n",
       "      <td>27.050000</td>\n",
       "      <td>41.690000</td>\n",
       "      <td>24.700000</td>\n",
       "      <td>...</td>\n",
       "      <td>23.200000</td>\n",
       "      <td>46.7900</td>\n",
       "      <td>22.466667</td>\n",
       "      <td>755.2</td>\n",
       "      <td>56.333333</td>\n",
       "      <td>3.666667</td>\n",
       "      <td>25.333333</td>\n",
       "      <td>13.266667</td>\n",
       "      <td>29.199117</td>\n",
       "      <td>29.199117</td>\n",
       "    </tr>\n",
       "    <tr>\n",
       "      <th>19733</th>\n",
       "      <td>2016-05-27 17:50:00</td>\n",
       "      <td>420</td>\n",
       "      <td>10</td>\n",
       "      <td>25.500000</td>\n",
       "      <td>46.990000</td>\n",
       "      <td>25.414000</td>\n",
       "      <td>43.036000</td>\n",
       "      <td>26.890000</td>\n",
       "      <td>41.290000</td>\n",
       "      <td>24.700000</td>\n",
       "      <td>...</td>\n",
       "      <td>23.200000</td>\n",
       "      <td>46.8175</td>\n",
       "      <td>22.333333</td>\n",
       "      <td>755.2</td>\n",
       "      <td>56.666667</td>\n",
       "      <td>3.833333</td>\n",
       "      <td>26.166667</td>\n",
       "      <td>13.233333</td>\n",
       "      <td>6.322784</td>\n",
       "      <td>6.322784</td>\n",
       "    </tr>\n",
       "    <tr>\n",
       "      <th>19734</th>\n",
       "      <td>2016-05-27 18:00:00</td>\n",
       "      <td>430</td>\n",
       "      <td>10</td>\n",
       "      <td>25.500000</td>\n",
       "      <td>46.600000</td>\n",
       "      <td>25.264286</td>\n",
       "      <td>42.971429</td>\n",
       "      <td>26.823333</td>\n",
       "      <td>41.156667</td>\n",
       "      <td>24.700000</td>\n",
       "      <td>...</td>\n",
       "      <td>23.200000</td>\n",
       "      <td>46.8450</td>\n",
       "      <td>22.200000</td>\n",
       "      <td>755.2</td>\n",
       "      <td>57.000000</td>\n",
       "      <td>4.000000</td>\n",
       "      <td>27.000000</td>\n",
       "      <td>13.200000</td>\n",
       "      <td>34.118851</td>\n",
       "      <td>34.118851</td>\n",
       "    </tr>\n",
       "  </tbody>\n",
       "</table>\n",
       "<p>19735 rows × 29 columns</p>\n",
       "</div>"
      ],
      "text/plain": [
       "                      date  Appliances  lights         T1       RH_1  \\\n",
       "0      2016-01-11 17:00:00          60      30  19.890000  47.596667   \n",
       "1      2016-01-11 17:10:00          60      30  19.890000  46.693333   \n",
       "2      2016-01-11 17:20:00          50      30  19.890000  46.300000   \n",
       "3      2016-01-11 17:30:00          50      40  19.890000  46.066667   \n",
       "4      2016-01-11 17:40:00          60      40  19.890000  46.333333   \n",
       "...                    ...         ...     ...        ...        ...   \n",
       "19730  2016-05-27 17:20:00         100       0  25.566667  46.560000   \n",
       "19731  2016-05-27 17:30:00          90       0  25.500000  46.500000   \n",
       "19732  2016-05-27 17:40:00         270      10  25.500000  46.596667   \n",
       "19733  2016-05-27 17:50:00         420      10  25.500000  46.990000   \n",
       "19734  2016-05-27 18:00:00         430      10  25.500000  46.600000   \n",
       "\n",
       "              T2       RH_2         T3       RH_3         T4  ...         T9  \\\n",
       "0      19.200000  44.790000  19.790000  44.730000  19.000000  ...  17.033333   \n",
       "1      19.200000  44.722500  19.790000  44.790000  19.000000  ...  17.066667   \n",
       "2      19.200000  44.626667  19.790000  44.933333  18.926667  ...  17.000000   \n",
       "3      19.200000  44.590000  19.790000  45.000000  18.890000  ...  17.000000   \n",
       "4      19.200000  44.530000  19.790000  45.000000  18.890000  ...  17.000000   \n",
       "...          ...        ...        ...        ...        ...  ...        ...   \n",
       "19730  25.890000  42.025714  27.200000  41.163333  24.700000  ...  23.200000   \n",
       "19731  25.754000  42.080000  27.133333  41.223333  24.700000  ...  23.200000   \n",
       "19732  25.628571  42.768571  27.050000  41.690000  24.700000  ...  23.200000   \n",
       "19733  25.414000  43.036000  26.890000  41.290000  24.700000  ...  23.200000   \n",
       "19734  25.264286  42.971429  26.823333  41.156667  24.700000  ...  23.200000   \n",
       "\n",
       "          RH_9      T_out  Press_mm_hg     RH_out  Windspeed  Visibility  \\\n",
       "0      45.5300   6.600000        733.5  92.000000   7.000000   63.000000   \n",
       "1      45.5600   6.483333        733.6  92.000000   6.666667   59.166667   \n",
       "2      45.5000   6.366667        733.7  92.000000   6.333333   55.333333   \n",
       "3      45.4000   6.250000        733.8  92.000000   6.000000   51.500000   \n",
       "4      45.4000   6.133333        733.9  92.000000   5.666667   47.666667   \n",
       "...        ...        ...          ...        ...        ...         ...   \n",
       "19730  46.7900  22.733333        755.2  55.666667   3.333333   23.666667   \n",
       "19731  46.7900  22.600000        755.2  56.000000   3.500000   24.500000   \n",
       "19732  46.7900  22.466667        755.2  56.333333   3.666667   25.333333   \n",
       "19733  46.8175  22.333333        755.2  56.666667   3.833333   26.166667   \n",
       "19734  46.8450  22.200000        755.2  57.000000   4.000000   27.000000   \n",
       "\n",
       "       Tdewpoint        rv1        rv2  \n",
       "0       5.300000  13.275433  13.275433  \n",
       "1       5.200000  18.606195  18.606195  \n",
       "2       5.100000  28.642668  28.642668  \n",
       "3       5.000000  45.410389  45.410389  \n",
       "4       4.900000  10.084097  10.084097  \n",
       "...          ...        ...        ...  \n",
       "19730  13.333333  43.096812  43.096812  \n",
       "19731  13.300000  49.282940  49.282940  \n",
       "19732  13.266667  29.199117  29.199117  \n",
       "19733  13.233333   6.322784   6.322784  \n",
       "19734  13.200000  34.118851  34.118851  \n",
       "\n",
       "[19735 rows x 29 columns]"
      ]
     },
     "execution_count": 3,
     "metadata": {},
     "output_type": "execute_result"
    }
   ],
   "source": [
    "df"
   ]
  },
  {
   "cell_type": "code",
   "execution_count": 4,
   "metadata": {
    "colab": {
     "base_uri": "https://localhost:8080/",
     "height": 660
    },
    "id": "ZoZI-S5t760x",
    "outputId": "6d1940ae-b366-4e2d-f0d2-44a0fb41b4f5"
   },
   "outputs": [
    {
     "name": "stdout",
     "output_type": "stream",
     "text": [
      "<class 'pandas.core.frame.DataFrame'>\n",
      "RangeIndex: 19735 entries, 0 to 19734\n",
      "Data columns (total 29 columns):\n",
      " #   Column       Non-Null Count  Dtype  \n",
      "---  ------       --------------  -----  \n",
      " 0   date         19735 non-null  object \n",
      " 1   Appliances   19735 non-null  int64  \n",
      " 2   lights       19735 non-null  int64  \n",
      " 3   T1           19735 non-null  float64\n",
      " 4   RH_1         19735 non-null  float64\n",
      " 5   T2           19735 non-null  float64\n",
      " 6   RH_2         19735 non-null  float64\n",
      " 7   T3           19735 non-null  float64\n",
      " 8   RH_3         19735 non-null  float64\n",
      " 9   T4           19735 non-null  float64\n",
      " 10  RH_4         19735 non-null  float64\n",
      " 11  T5           19735 non-null  float64\n",
      " 12  RH_5         19735 non-null  float64\n",
      " 13  T6           19735 non-null  float64\n",
      " 14  RH_6         19735 non-null  float64\n",
      " 15  T7           19735 non-null  float64\n",
      " 16  RH_7         19735 non-null  float64\n",
      " 17  T8           19735 non-null  float64\n",
      " 18  RH_8         19735 non-null  float64\n",
      " 19  T9           19735 non-null  float64\n",
      " 20  RH_9         19735 non-null  float64\n",
      " 21  T_out        19735 non-null  float64\n",
      " 22  Press_mm_hg  19735 non-null  float64\n",
      " 23  RH_out       19735 non-null  float64\n",
      " 24  Windspeed    19735 non-null  float64\n",
      " 25  Visibility   19735 non-null  float64\n",
      " 26  Tdewpoint    19735 non-null  float64\n",
      " 27  rv1          19735 non-null  float64\n",
      " 28  rv2          19735 non-null  float64\n",
      "dtypes: float64(26), int64(2), object(1)\n",
      "memory usage: 4.4+ MB\n"
     ]
    }
   ],
   "source": [
    "df.info()"
   ]
  },
  {
   "cell_type": "code",
   "execution_count": 5,
   "metadata": {
    "colab": {
     "base_uri": "https://localhost:8080/",
     "height": 416
    },
    "id": "ncOjFLiR0yiV",
    "outputId": "5ccd812d-68a9-443a-b6f4-eca293d5f8a5"
   },
   "outputs": [
    {
     "data": {
      "text/html": [
       "<div>\n",
       "<style scoped>\n",
       "    .dataframe tbody tr th:only-of-type {\n",
       "        vertical-align: middle;\n",
       "    }\n",
       "\n",
       "    .dataframe tbody tr th {\n",
       "        vertical-align: top;\n",
       "    }\n",
       "\n",
       "    .dataframe thead th {\n",
       "        text-align: right;\n",
       "    }\n",
       "</style>\n",
       "<table border=\"1\" class=\"dataframe\">\n",
       "  <thead>\n",
       "    <tr style=\"text-align: right;\">\n",
       "      <th></th>\n",
       "      <th>date</th>\n",
       "      <th>T_out</th>\n",
       "      <th>RH_2</th>\n",
       "      <th>Appliances</th>\n",
       "      <th>lights</th>\n",
       "    </tr>\n",
       "  </thead>\n",
       "  <tbody>\n",
       "    <tr>\n",
       "      <th>0</th>\n",
       "      <td>2016-01-11 17:00:00</td>\n",
       "      <td>6.600000</td>\n",
       "      <td>44.790000</td>\n",
       "      <td>60</td>\n",
       "      <td>30</td>\n",
       "    </tr>\n",
       "    <tr>\n",
       "      <th>1</th>\n",
       "      <td>2016-01-11 17:10:00</td>\n",
       "      <td>6.483333</td>\n",
       "      <td>44.722500</td>\n",
       "      <td>60</td>\n",
       "      <td>30</td>\n",
       "    </tr>\n",
       "    <tr>\n",
       "      <th>2</th>\n",
       "      <td>2016-01-11 17:20:00</td>\n",
       "      <td>6.366667</td>\n",
       "      <td>44.626667</td>\n",
       "      <td>50</td>\n",
       "      <td>30</td>\n",
       "    </tr>\n",
       "    <tr>\n",
       "      <th>3</th>\n",
       "      <td>2016-01-11 17:30:00</td>\n",
       "      <td>6.250000</td>\n",
       "      <td>44.590000</td>\n",
       "      <td>50</td>\n",
       "      <td>40</td>\n",
       "    </tr>\n",
       "    <tr>\n",
       "      <th>4</th>\n",
       "      <td>2016-01-11 17:40:00</td>\n",
       "      <td>6.133333</td>\n",
       "      <td>44.530000</td>\n",
       "      <td>60</td>\n",
       "      <td>40</td>\n",
       "    </tr>\n",
       "    <tr>\n",
       "      <th>...</th>\n",
       "      <td>...</td>\n",
       "      <td>...</td>\n",
       "      <td>...</td>\n",
       "      <td>...</td>\n",
       "      <td>...</td>\n",
       "    </tr>\n",
       "    <tr>\n",
       "      <th>19730</th>\n",
       "      <td>2016-05-27 17:20:00</td>\n",
       "      <td>22.733333</td>\n",
       "      <td>42.025714</td>\n",
       "      <td>100</td>\n",
       "      <td>0</td>\n",
       "    </tr>\n",
       "    <tr>\n",
       "      <th>19731</th>\n",
       "      <td>2016-05-27 17:30:00</td>\n",
       "      <td>22.600000</td>\n",
       "      <td>42.080000</td>\n",
       "      <td>90</td>\n",
       "      <td>0</td>\n",
       "    </tr>\n",
       "    <tr>\n",
       "      <th>19732</th>\n",
       "      <td>2016-05-27 17:40:00</td>\n",
       "      <td>22.466667</td>\n",
       "      <td>42.768571</td>\n",
       "      <td>270</td>\n",
       "      <td>10</td>\n",
       "    </tr>\n",
       "    <tr>\n",
       "      <th>19733</th>\n",
       "      <td>2016-05-27 17:50:00</td>\n",
       "      <td>22.333333</td>\n",
       "      <td>43.036000</td>\n",
       "      <td>420</td>\n",
       "      <td>10</td>\n",
       "    </tr>\n",
       "    <tr>\n",
       "      <th>19734</th>\n",
       "      <td>2016-05-27 18:00:00</td>\n",
       "      <td>22.200000</td>\n",
       "      <td>42.971429</td>\n",
       "      <td>430</td>\n",
       "      <td>10</td>\n",
       "    </tr>\n",
       "  </tbody>\n",
       "</table>\n",
       "<p>19735 rows × 5 columns</p>\n",
       "</div>"
      ],
      "text/plain": [
       "                      date      T_out       RH_2  Appliances  lights\n",
       "0      2016-01-11 17:00:00   6.600000  44.790000          60      30\n",
       "1      2016-01-11 17:10:00   6.483333  44.722500          60      30\n",
       "2      2016-01-11 17:20:00   6.366667  44.626667          50      30\n",
       "3      2016-01-11 17:30:00   6.250000  44.590000          50      40\n",
       "4      2016-01-11 17:40:00   6.133333  44.530000          60      40\n",
       "...                    ...        ...        ...         ...     ...\n",
       "19730  2016-05-27 17:20:00  22.733333  42.025714         100       0\n",
       "19731  2016-05-27 17:30:00  22.600000  42.080000          90       0\n",
       "19732  2016-05-27 17:40:00  22.466667  42.768571         270      10\n",
       "19733  2016-05-27 17:50:00  22.333333  43.036000         420      10\n",
       "19734  2016-05-27 18:00:00  22.200000  42.971429         430      10\n",
       "\n",
       "[19735 rows x 5 columns]"
      ]
     },
     "execution_count": 5,
     "metadata": {},
     "output_type": "execute_result"
    }
   ],
   "source": [
    "df[['date','T_out', 'RH_2', 'Appliances','lights']]"
   ]
  },
  {
   "cell_type": "code",
   "execution_count": 7,
   "metadata": {
    "id": "DX4Wjmy08aWn"
   },
   "outputs": [
    {
     "name": "stdout",
     "output_type": "stream",
     "text": [
      "<class 'pandas.core.frame.DataFrame'>\n",
      "RangeIndex: 19735 entries, 0 to 19734\n",
      "Data columns (total 29 columns):\n",
      " #   Column       Non-Null Count  Dtype         \n",
      "---  ------       --------------  -----         \n",
      " 0   date         19735 non-null  datetime64[ns]\n",
      " 1   Appliances   19735 non-null  int64         \n",
      " 2   lights       19735 non-null  int64         \n",
      " 3   T1           19735 non-null  float64       \n",
      " 4   RH_1         19735 non-null  float64       \n",
      " 5   T2           19735 non-null  float64       \n",
      " 6   RH_2         19735 non-null  float64       \n",
      " 7   T3           19735 non-null  float64       \n",
      " 8   RH_3         19735 non-null  float64       \n",
      " 9   T4           19735 non-null  float64       \n",
      " 10  RH_4         19735 non-null  float64       \n",
      " 11  T5           19735 non-null  float64       \n",
      " 12  RH_5         19735 non-null  float64       \n",
      " 13  T6           19735 non-null  float64       \n",
      " 14  RH_6         19735 non-null  float64       \n",
      " 15  T7           19735 non-null  float64       \n",
      " 16  RH_7         19735 non-null  float64       \n",
      " 17  T8           19735 non-null  float64       \n",
      " 18  RH_8         19735 non-null  float64       \n",
      " 19  T9           19735 non-null  float64       \n",
      " 20  RH_9         19735 non-null  float64       \n",
      " 21  T_out        19735 non-null  float64       \n",
      " 22  Press_mm_hg  19735 non-null  float64       \n",
      " 23  RH_out       19735 non-null  float64       \n",
      " 24  Windspeed    19735 non-null  float64       \n",
      " 25  Visibility   19735 non-null  float64       \n",
      " 26  Tdewpoint    19735 non-null  float64       \n",
      " 27  rv1          19735 non-null  float64       \n",
      " 28  rv2          19735 non-null  float64       \n",
      "dtypes: datetime64[ns](1), float64(26), int64(2)\n",
      "memory usage: 4.4 MB\n"
     ]
    }
   ],
   "source": [
    "df['date'] = pd.to_datetime(df['date'], infer_datetime_format=True)\n",
    "df.info()"
   ]
  },
  {
   "cell_type": "code",
   "execution_count": 8,
   "metadata": {
    "colab": {
     "base_uri": "https://localhost:8080/",
     "height": 526
    },
    "id": "Nmbda9RhEQPJ",
    "outputId": "5eaa2b9c-7111-4fe7-ad1c-879cfdf3c0bf"
   },
   "outputs": [
    {
     "data": {
      "text/plain": [
       "<matplotlib.axes._subplots.AxesSubplot at 0x25a275bff28>"
      ]
     },
     "execution_count": 8,
     "metadata": {},
     "output_type": "execute_result"
    },
    {
     "data": {
      "image/png": "[encoded data removed]",
      "text/plain": [
       "<Figure size 720x576 with 1 Axes>"
      ]
     },
     "metadata": {
      "needs_background": "light"
     },
     "output_type": "display_data"
    }
   ],
   "source": [
    "df.set_index('date')['T_out'].plot()"
   ]
  },
  {
   "cell_type": "code",
   "execution_count": 9,
   "metadata": {
    "colab": {
     "base_uri": "https://localhost:8080/",
     "height": 564
    },
    "id": "1Ag5wZCs9ZFY",
    "outputId": "116769ec-e688-4f2e-f228-f955322f25e5"
   },
   "outputs": [
    {
     "data": {
      "image/png": "[encoded data removed]",
      "text/plain": [
       "<Figure size 720x576 with 4 Axes>"
      ]
     },
     "metadata": {
      "needs_background": "light"
     },
     "output_type": "display_data"
    }
   ],
   "source": [
    "df.set_index('date')[['T_out', 'RH_2', 'Appliances','lights']].plot(subplots=True);"
   ]
  },
  {
   "cell_type": "code",
   "execution_count": 10,
   "metadata": {
    "colab": {
     "base_uri": "https://localhost:8080/",
     "height": 552
    },
    "id": "ayITicdCtyWr",
    "outputId": "f89018a5-8746-4168-9cbd-6bed8fd7fb96"
   },
   "outputs": [
    {
     "data": {
      "text/plain": [
       "date           19735\n",
       "Appliances     19735\n",
       "lights         19735\n",
       "T1             19735\n",
       "RH_1           19735\n",
       "T2             19735\n",
       "RH_2           19735\n",
       "T3             19735\n",
       "RH_3           19735\n",
       "T4             19735\n",
       "RH_4           19735\n",
       "T5             19735\n",
       "RH_5           19735\n",
       "T6             19735\n",
       "RH_6           19735\n",
       "T7             19735\n",
       "RH_7           19735\n",
       "T8             19735\n",
       "RH_8           19735\n",
       "T9             19735\n",
       "RH_9           19735\n",
       "T_out          19735\n",
       "Press_mm_hg    19735\n",
       "RH_out         19735\n",
       "Windspeed      19735\n",
       "Visibility     19735\n",
       "Tdewpoint      19735\n",
       "rv1            19735\n",
       "rv2            19735\n",
       "dtype: int64"
      ]
     },
     "execution_count": 10,
     "metadata": {},
     "output_type": "execute_result"
    }
   ],
   "source": [
    "df.count()"
   ]
  },
  {
   "cell_type": "code",
   "execution_count": 13,
   "metadata": {
    "id": "G7iL_GfrOGwY"
   },
   "outputs": [],
   "source": [
    "features=df[['Appliances','T_out', 'RH_2']].to_numpy().tolist()\n",
    "target=df['Appliances'].tolist()"
   ]
  },
  {
   "cell_type": "code",
   "execution_count": 14,
   "metadata": {
    "colab": {
     "base_uri": "https://localhost:8080/",
     "height": 213
    },
    "id": "65R4OCK2tO6u",
    "outputId": "f76ab2a8-4383-4667-c687-2ac65b32f31a"
   },
   "outputs": [
    {
     "data": {
      "text/plain": [
       "[[60.0, 6.6, 44.79],\n",
       " [60.0, 6.48333333333333, 44.7225],\n",
       " [50.0, 6.36666666666667, 44.6266666666667],\n",
       " [50.0, 6.25, 44.59],\n",
       " [60.0, 6.133333333333329, 44.53],\n",
       " [50.0, 6.01666666666667, 44.5],\n",
       " [60.0, 5.9, 44.5],\n",
       " [60.0, 5.91666666666667, 44.5],\n",
       " [60.0, 5.93333333333333, 44.433333333333294],\n",
       " [70.0, 5.95, 44.4],\n",
       " [230.0, 5.96666666666667, 44.4]]"
      ]
     },
     "execution_count": 14,
     "metadata": {},
     "output_type": "execute_result"
    }
   ],
   "source": [
    "features[0:11]"
   ]
  },
  {
   "cell_type": "code",
   "execution_count": 15,
   "metadata": {
    "colab": {
     "base_uri": "https://localhost:8080/",
     "height": 35
    },
    "id": "GO6RNMg-tiqY",
    "outputId": "ee2e154c-8d62-4631-980c-e71f5f636c9e"
   },
   "outputs": [
    {
     "data": {
      "text/plain": [
       "[60, 60, 50, 50, 60, 50, 60, 60, 60, 70, 230]"
      ]
     },
     "execution_count": 15,
     "metadata": {},
     "output_type": "execute_result"
    }
   ],
   "source": [
    "target[0:11]"
   ]
  },
  {
   "cell_type": "code",
   "execution_count": null,
   "metadata": {
    "colab": {
     "base_uri": "https://localhost:8080/",
     "height": 941
    },
    "id": "5_612h4SUoUA",
    "outputId": "d3586321-ef88-4365-c77a-73f69b2e880b"
   },
   "outputs": [
    {
     "data": {
      "image/png": "[encoded data removed]",
      "text/plain": [
       "<IPython.core.display.Image object>"
      ]
     },
     "metadata": {
      "tags": []
     },
     "output_type": "display_data"
    },
    {
     "name": "stdout",
     "output_type": "stream",
     "text": [
      "===========================================================================\n"
     ]
    },
    {
     "data": {
      "image/png": "[encoded data removed]",
      "text/plain": [
       "<IPython.core.display.Image object>"
      ]
     },
     "metadata": {
      "tags": []
     },
     "output_type": "display_data"
    },
    {
     "name": "stdout",
     "output_type": "stream",
     "text": [
      "===========================================================================\n"
     ]
    },
    {
     "data": {
      "image/png": "[encoded data removed]",
      "text/plain": [
       "<IPython.core.display.Image object>"
      ]
     },
     "metadata": {
      "tags": []
     },
     "output_type": "display_data"
    }
   ],
   "source": [
    "display(Image('raw_window_1h.png'))\n",
    "print(\"===========================================================================\")\n",
    "display(Image('split_window.png'))\n",
    "print(\"===========================================================================\")\n",
    "display(Image('raw_window_24h.png'))"
   ]
  },
  {
   "cell_type": "code",
   "execution_count": 16,
   "metadata": {
    "id": "7gtaryK2rGaQ"
   },
   "outputs": [],
   "source": [
    "ts_generator = TimeseriesGenerator(features, target, length=6, sampling_rate=1, batch_size=1)"
   ]
  },
  {
   "cell_type": "code",
   "execution_count": 17,
   "metadata": {
    "colab": {
     "base_uri": "https://localhost:8080/",
     "height": 124
    },
    "id": "gm-h1ADpwKq-",
    "outputId": "80aca1de-0add-4623-dd22-ea3774ad2205"
   },
   "outputs": [
    {
     "data": {
      "text/plain": [
       "(array([[[60.        ,  6.6       , 44.79      ],\n",
       "         [60.        ,  6.48333333, 44.7225    ],\n",
       "         [50.        ,  6.36666667, 44.62666667],\n",
       "         [50.        ,  6.25      , 44.59      ],\n",
       "         [60.        ,  6.13333333, 44.53      ],\n",
       "         [50.        ,  6.01666667, 44.5       ]]]),\n",
       " array([60]))"
      ]
     },
     "execution_count": 17,
     "metadata": {},
     "output_type": "execute_result"
    }
   ],
   "source": [
    "ts_generator[0]"
   ]
  },
  {
   "cell_type": "code",
   "execution_count": 18,
   "metadata": {
    "id": "tArHKnLksxxI"
   },
   "outputs": [
    {
     "data": {
      "text/plain": [
       "(6, 3)"
      ]
     },
     "execution_count": 18,
     "metadata": {},
     "output_type": "execute_result"
    }
   ],
   "source": [
    "ts_generator[0][0][0].shape"
   ]
  },
  {
   "cell_type": "code",
   "execution_count": 19,
   "metadata": {
    "colab": {
     "base_uri": "https://localhost:8080/",
     "height": 124
    },
    "id": "7GWPYMHa20sF",
    "outputId": "9081602c-e55f-4082-c66e-f45030a6b2f9"
   },
   "outputs": [
    {
     "data": {
      "text/plain": [
       "(array([[[60.        ,  6.48333333, 44.7225    ],\n",
       "         [50.        ,  6.36666667, 44.62666667],\n",
       "         [50.        ,  6.25      , 44.59      ],\n",
       "         [60.        ,  6.13333333, 44.53      ],\n",
       "         [50.        ,  6.01666667, 44.5       ],\n",
       "         [60.        ,  5.9       , 44.5       ]]]),\n",
       " array([60]))"
      ]
     },
     "execution_count": 19,
     "metadata": {},
     "output_type": "execute_result"
    }
   ],
   "source": [
    "ts_generator[1]"
   ]
  },
  {
   "cell_type": "code",
   "execution_count": 20,
   "metadata": {
    "colab": {
     "base_uri": "https://localhost:8080/",
     "height": 124
    },
    "id": "dMBW86Pn1_yq",
    "outputId": "04d16351-6f08-49ec-ec0a-8ba9e53e1dc5"
   },
   "outputs": [
    {
     "data": {
      "text/plain": [
       "(array([[[50.        ,  6.36666667, 44.62666667],\n",
       "         [50.        ,  6.25      , 44.59      ],\n",
       "         [60.        ,  6.13333333, 44.53      ],\n",
       "         [50.        ,  6.01666667, 44.5       ],\n",
       "         [60.        ,  5.9       , 44.5       ],\n",
       "         [60.        ,  5.91666667, 44.5       ]]]),\n",
       " array([60]))"
      ]
     },
     "execution_count": 20,
     "metadata": {},
     "output_type": "execute_result"
    }
   ],
   "source": [
    "ts_generator[2]"
   ]
  },
  {
   "cell_type": "code",
   "execution_count": 21,
   "metadata": {
    "colab": {
     "base_uri": "https://localhost:8080/",
     "height": 35
    },
    "id": "LUrh59xOxdoQ",
    "outputId": "96fd3017-85e5-47f6-9c17-8ba276de537e"
   },
   "outputs": [
    {
     "data": {
      "text/plain": [
       "19729"
      ]
     },
     "execution_count": 21,
     "metadata": {},
     "output_type": "execute_result"
    }
   ],
   "source": [
    "len(ts_generator)"
   ]
  },
  {
   "cell_type": "markdown",
   "metadata": {
    "id": "9VAZHhpf23_x"
   },
   "source": [
    "\n",
    "\n",
    "```\n",
    "Input - 1,2,3,4,5,6,7,8,9\n",
    "\n",
    "Sliding window (window size 3, stride 1) - 1,2,3    2,3,4   4,5,6\n",
    "\n",
    "Sliding window (window size 3, stride 2) - 1,2,3    3,4,5   7,8,9\n",
    "\n",
    "Tumbling window (Window size 3)   - 1,2,3   4,5,6   7,8,9\n",
    "\n",
    "\n",
    "```\n",
    "\n"
   ]
  },
  {
   "cell_type": "code",
   "execution_count": 22,
   "metadata": {
    "id": "Jm6QipL9xrRN"
   },
   "outputs": [],
   "source": [
    "ts_generator = TimeseriesGenerator(features, target, length=6, sampling_rate=1, batch_size=1, stride=2)"
   ]
  },
  {
   "cell_type": "code",
   "execution_count": 23,
   "metadata": {
    "colab": {
     "base_uri": "https://localhost:8080/",
     "height": 35
    },
    "id": "Cg1fvY9ux4OK",
    "outputId": "22f2dd22-e321-4411-a4b8-ac80f68ba9ed"
   },
   "outputs": [
    {
     "data": {
      "text/plain": [
       "9865"
      ]
     },
     "execution_count": 23,
     "metadata": {},
     "output_type": "execute_result"
    }
   ],
   "source": [
    "len(ts_generator)"
   ]
  },
  {
   "cell_type": "code",
   "execution_count": 24,
   "metadata": {
    "colab": {
     "base_uri": "https://localhost:8080/",
     "height": 124
    },
    "id": "9NFA9vJ4x59L",
    "outputId": "6a40cf3f-4e4d-4081-e444-4d33ca76472b"
   },
   "outputs": [
    {
     "data": {
      "text/plain": [
       "(array([[[60.        ,  6.6       , 44.79      ],\n",
       "         [60.        ,  6.48333333, 44.7225    ],\n",
       "         [50.        ,  6.36666667, 44.62666667],\n",
       "         [50.        ,  6.25      , 44.59      ],\n",
       "         [60.        ,  6.13333333, 44.53      ],\n",
       "         [50.        ,  6.01666667, 44.5       ]]]),\n",
       " array([60]))"
      ]
     },
     "execution_count": 24,
     "metadata": {},
     "output_type": "execute_result"
    }
   ],
   "source": [
    "ts_generator[0]"
   ]
  },
  {
   "cell_type": "code",
   "execution_count": 25,
   "metadata": {
    "colab": {
     "base_uri": "https://localhost:8080/",
     "height": 124
    },
    "id": "5sXQkfyJx_mx",
    "outputId": "7e175d89-ac1f-4e19-b28d-62ca7d0885cd"
   },
   "outputs": [
    {
     "data": {
      "text/plain": [
       "(array([[[50.        ,  6.36666667, 44.62666667],\n",
       "         [50.        ,  6.25      , 44.59      ],\n",
       "         [60.        ,  6.13333333, 44.53      ],\n",
       "         [50.        ,  6.01666667, 44.5       ],\n",
       "         [60.        ,  5.9       , 44.5       ],\n",
       "         [60.        ,  5.91666667, 44.5       ]]]),\n",
       " array([60]))"
      ]
     },
     "execution_count": 25,
     "metadata": {},
     "output_type": "execute_result"
    }
   ],
   "source": [
    "ts_generator[1]"
   ]
  },
  {
   "cell_type": "code",
   "execution_count": 26,
   "metadata": {
    "colab": {
     "base_uri": "https://localhost:8080/",
     "height": 416
    },
    "id": "GbvM1xOXyDsS",
    "outputId": "66a6bcf4-85ae-4ba5-cd1a-05c28ab5b54a"
   },
   "outputs": [
    {
     "data": {
      "text/html": [
       "<div>\n",
       "<style scoped>\n",
       "    .dataframe tbody tr th:only-of-type {\n",
       "        vertical-align: middle;\n",
       "    }\n",
       "\n",
       "    .dataframe tbody tr th {\n",
       "        vertical-align: top;\n",
       "    }\n",
       "\n",
       "    .dataframe thead th {\n",
       "        text-align: right;\n",
       "    }\n",
       "</style>\n",
       "<table border=\"1\" class=\"dataframe\">\n",
       "  <thead>\n",
       "    <tr style=\"text-align: right;\">\n",
       "      <th></th>\n",
       "      <th>Appliances</th>\n",
       "      <th>Appliances</th>\n",
       "      <th>Appliances</th>\n",
       "    </tr>\n",
       "  </thead>\n",
       "  <tbody>\n",
       "    <tr>\n",
       "      <th>0</th>\n",
       "      <td>60</td>\n",
       "      <td>60.0</td>\n",
       "      <td>50.0</td>\n",
       "    </tr>\n",
       "    <tr>\n",
       "      <th>1</th>\n",
       "      <td>60</td>\n",
       "      <td>50.0</td>\n",
       "      <td>50.0</td>\n",
       "    </tr>\n",
       "    <tr>\n",
       "      <th>2</th>\n",
       "      <td>50</td>\n",
       "      <td>50.0</td>\n",
       "      <td>60.0</td>\n",
       "    </tr>\n",
       "    <tr>\n",
       "      <th>3</th>\n",
       "      <td>50</td>\n",
       "      <td>60.0</td>\n",
       "      <td>50.0</td>\n",
       "    </tr>\n",
       "    <tr>\n",
       "      <th>4</th>\n",
       "      <td>60</td>\n",
       "      <td>50.0</td>\n",
       "      <td>60.0</td>\n",
       "    </tr>\n",
       "    <tr>\n",
       "      <th>...</th>\n",
       "      <td>...</td>\n",
       "      <td>...</td>\n",
       "      <td>...</td>\n",
       "    </tr>\n",
       "    <tr>\n",
       "      <th>19730</th>\n",
       "      <td>100</td>\n",
       "      <td>90.0</td>\n",
       "      <td>270.0</td>\n",
       "    </tr>\n",
       "    <tr>\n",
       "      <th>19731</th>\n",
       "      <td>90</td>\n",
       "      <td>270.0</td>\n",
       "      <td>420.0</td>\n",
       "    </tr>\n",
       "    <tr>\n",
       "      <th>19732</th>\n",
       "      <td>270</td>\n",
       "      <td>420.0</td>\n",
       "      <td>430.0</td>\n",
       "    </tr>\n",
       "    <tr>\n",
       "      <th>19733</th>\n",
       "      <td>420</td>\n",
       "      <td>430.0</td>\n",
       "      <td>NaN</td>\n",
       "    </tr>\n",
       "    <tr>\n",
       "      <th>19734</th>\n",
       "      <td>430</td>\n",
       "      <td>NaN</td>\n",
       "      <td>NaN</td>\n",
       "    </tr>\n",
       "  </tbody>\n",
       "</table>\n",
       "<p>19735 rows × 3 columns</p>\n",
       "</div>"
      ],
      "text/plain": [
       "       Appliances  Appliances  Appliances\n",
       "0              60        60.0        50.0\n",
       "1              60        50.0        50.0\n",
       "2              50        50.0        60.0\n",
       "3              50        60.0        50.0\n",
       "4              60        50.0        60.0\n",
       "...           ...         ...         ...\n",
       "19730         100        90.0       270.0\n",
       "19731          90       270.0       420.0\n",
       "19732         270       420.0       430.0\n",
       "19733         420       430.0         NaN\n",
       "19734         430         NaN         NaN\n",
       "\n",
       "[19735 rows x 3 columns]"
      ]
     },
     "execution_count": 26,
     "metadata": {},
     "output_type": "execute_result"
    }
   ],
   "source": [
    "pd.concat([df['Appliances'],df['Appliances'].shift(-1), df['Appliances'].shift(-2)],axis=1)"
   ]
  },
  {
   "cell_type": "code",
   "execution_count": 27,
   "metadata": {
    "id": "4x06yAMT8ezk"
   },
   "outputs": [],
   "source": [
    "multi_target=pd.concat([df['Appliances'],df['Appliances'].shift(-1), df['Appliances'].shift(-2)],axis=1).dropna().to_numpy().tolist()"
   ]
  },
  {
   "cell_type": "code",
   "execution_count": 28,
   "metadata": {
    "colab": {
     "base_uri": "https://localhost:8080/",
     "height": 249
    },
    "id": "j8R24p_d-jEo",
    "outputId": "eb347cb7-195f-48ce-a787-0f2baececcad"
   },
   "outputs": [
    {
     "data": {
      "text/plain": [
       "[[60.0, 60.0, 50.0],\n",
       " [60.0, 50.0, 50.0],\n",
       " [50.0, 50.0, 60.0],\n",
       " [50.0, 60.0, 50.0],\n",
       " [60.0, 50.0, 60.0],\n",
       " [50.0, 60.0, 60.0],\n",
       " [60.0, 60.0, 60.0],\n",
       " [60.0, 60.0, 70.0],\n",
       " [60.0, 70.0, 230.0],\n",
       " [70.0, 230.0, 580.0],\n",
       " [230.0, 580.0, 430.0],\n",
       " [580.0, 430.0, 250.0],\n",
       " [430.0, 250.0, 100.0]]"
      ]
     },
     "execution_count": 28,
     "metadata": {},
     "output_type": "execute_result"
    }
   ],
   "source": [
    "multi_target[0:13]"
   ]
  },
  {
   "cell_type": "code",
   "execution_count": 31,
   "metadata": {
    "id": "g6pM33TQ-Vvt"
   },
   "outputs": [],
   "source": [
    "ts_generator = TimeseriesGenerator(features[:-2], multi_target, length=6, sampling_rate=1, batch_size=5, stride=1)"
   ]
  },
  {
   "cell_type": "code",
   "execution_count": 32,
   "metadata": {
    "colab": {
     "base_uri": "https://localhost:8080/",
     "height": 124
    },
    "id": "OgsW6-yD-uGo",
    "outputId": "e0ddc35c-b377-44e5-d42b-df3912ded694"
   },
   "outputs": [
    {
     "data": {
      "text/plain": [
       "(array([[[60.        ,  6.6       , 44.79      ],\n",
       "         [60.        ,  6.48333333, 44.7225    ],\n",
       "         [50.        ,  6.36666667, 44.62666667],\n",
       "         [50.        ,  6.25      , 44.59      ],\n",
       "         [60.        ,  6.13333333, 44.53      ],\n",
       "         [50.        ,  6.01666667, 44.5       ]],\n",
       " \n",
       "        [[60.        ,  6.48333333, 44.7225    ],\n",
       "         [50.        ,  6.36666667, 44.62666667],\n",
       "         [50.        ,  6.25      , 44.59      ],\n",
       "         [60.        ,  6.13333333, 44.53      ],\n",
       "         [50.        ,  6.01666667, 44.5       ],\n",
       "         [60.        ,  5.9       , 44.5       ]],\n",
       " \n",
       "        [[50.        ,  6.36666667, 44.62666667],\n",
       "         [50.        ,  6.25      , 44.59      ],\n",
       "         [60.        ,  6.13333333, 44.53      ],\n",
       "         [50.        ,  6.01666667, 44.5       ],\n",
       "         [60.        ,  5.9       , 44.5       ],\n",
       "         [60.        ,  5.91666667, 44.5       ]],\n",
       " \n",
       "        [[50.        ,  6.25      , 44.59      ],\n",
       "         [60.        ,  6.13333333, 44.53      ],\n",
       "         [50.        ,  6.01666667, 44.5       ],\n",
       "         [60.        ,  5.9       , 44.5       ],\n",
       "         [60.        ,  5.91666667, 44.5       ],\n",
       "         [60.        ,  5.93333333, 44.43333333]],\n",
       " \n",
       "        [[60.        ,  6.13333333, 44.53      ],\n",
       "         [50.        ,  6.01666667, 44.5       ],\n",
       "         [60.        ,  5.9       , 44.5       ],\n",
       "         [60.        ,  5.91666667, 44.5       ],\n",
       "         [60.        ,  5.93333333, 44.43333333],\n",
       "         [70.        ,  5.95      , 44.4       ]]]),\n",
       " array([[ 60.,  60.,  60.],\n",
       "        [ 60.,  60.,  70.],\n",
       "        [ 60.,  70., 230.],\n",
       "        [ 70., 230., 580.],\n",
       "        [230., 580., 430.]]))"
      ]
     },
     "execution_count": 32,
     "metadata": {},
     "output_type": "execute_result"
    }
   ],
   "source": [
    "ts_generator[0]"
   ]
  },
  {
   "cell_type": "code",
   "execution_count": 33,
   "metadata": {
    "colab": {
     "base_uri": "https://localhost:8080/",
     "height": 142
    },
    "id": "ahjM0vkG-70i",
    "outputId": "c5dd7ad8-cce8-4073-fe10-9489edd63b71"
   },
   "outputs": [
    {
     "data": {
      "text/plain": [
       "(array([[[ 50.        ,   6.01666667,  44.5       ],\n",
       "         [ 60.        ,   5.9       ,  44.5       ],\n",
       "         [ 60.        ,   5.91666667,  44.5       ],\n",
       "         [ 60.        ,   5.93333333,  44.43333333],\n",
       "         [ 70.        ,   5.95      ,  44.4       ],\n",
       "         [230.        ,   5.96666667,  44.4       ]],\n",
       " \n",
       "        [[ 60.        ,   5.9       ,  44.5       ],\n",
       "         [ 60.        ,   5.91666667,  44.5       ],\n",
       "         [ 60.        ,   5.93333333,  44.43333333],\n",
       "         [ 70.        ,   5.95      ,  44.4       ],\n",
       "         [230.        ,   5.96666667,  44.4       ],\n",
       "         [580.        ,   5.98333333,  44.4       ]],\n",
       " \n",
       "        [[ 60.        ,   5.91666667,  44.5       ],\n",
       "         [ 60.        ,   5.93333333,  44.43333333],\n",
       "         [ 70.        ,   5.95      ,  44.4       ],\n",
       "         [230.        ,   5.96666667,  44.4       ],\n",
       "         [580.        ,   5.98333333,  44.4       ],\n",
       "         [430.        ,   6.        ,  44.4       ]],\n",
       " \n",
       "        [[ 60.        ,   5.93333333,  44.43333333],\n",
       "         [ 70.        ,   5.95      ,  44.4       ],\n",
       "         [230.        ,   5.96666667,  44.4       ],\n",
       "         [580.        ,   5.98333333,  44.4       ],\n",
       "         [430.        ,   6.        ,  44.4       ],\n",
       "         [250.        ,   6.        ,  45.1       ]],\n",
       " \n",
       "        [[ 70.        ,   5.95      ,  44.4       ],\n",
       "         [230.        ,   5.96666667,  44.4       ],\n",
       "         [580.        ,   5.98333333,  44.4       ],\n",
       "         [430.        ,   6.        ,  44.4       ],\n",
       "         [250.        ,   6.        ,  45.1       ],\n",
       "         [100.        ,   6.        ,  45.83333333]]]),\n",
       " array([[580., 430., 250.],\n",
       "        [430., 250., 100.],\n",
       "        [250., 100., 100.],\n",
       "        [100., 100.,  90.],\n",
       "        [100.,  90.,  70.]]))"
      ]
     },
     "execution_count": 33,
     "metadata": {},
     "output_type": "execute_result"
    }
   ],
   "source": [
    "ts_generator[1]"
   ]
  },
  {
   "cell_type": "code",
   "execution_count": null,
   "metadata": {
    "id": "P_kdcdTC_CpA"
   },
   "outputs": [],
   "source": []
  }
 ],
 "metadata": {
  "colab": {
   "authorship_tag": "ABX9TyPXvhwDBMnJsu3AixDmCqL9",
   "collapsed_sections": [],
   "include_colab_link": true,
   "name": "Time Series Functions for Sequencing.ipynb",
   "provenance": []
  },
  "kernelspec": {
   "display_name": "Python [conda env:ftrml_milad]",
   "language": "python",
   "name": "conda-env-ftrml_milad-py"
  },
  "language_info": {
   "codemirror_mode": {
    "name": "ipython",
    "version": 3
   },
   "file_extension": ".py",
   "mimetype": "text/x-python",
   "name": "python",
   "nbconvert_exporter": "python",
   "pygments_lexer": "ipython3",
   "version": "3.7.0"
  }
 },
 "nbformat": 4,
 "nbformat_minor": 1
}
